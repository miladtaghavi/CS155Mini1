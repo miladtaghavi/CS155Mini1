{
 "cells": [
  {
   "cell_type": "code",
   "execution_count": 58,
   "metadata": {},
   "outputs": [],
   "source": [
    "import numpy as np\n",
    "import matplotlib.pyplot as plt\n",
    "\n",
    "import sklearn\n",
    "from sklearn import preprocessing\n",
    "from sklearn.svm import SVC\n",
    "from sklearn.pipeline import make_pipeline\n",
    "from sklearn.model_selection import cross_val_score, GridSearchCV"
   ]
  },
  {
   "cell_type": "code",
   "execution_count": 59,
   "metadata": {},
   "outputs": [],
   "source": [
    "def read_data(filename, has_y):\n",
    "    with open(filename, \"r\") as f:\n",
    "        data = f.readlines()\n",
    "\n",
    "    # Slice off first line which is the list of words\n",
    "    data = data[1:]\n",
    "    # Split the string on each line into ints and convert to numpy array\n",
    "    data = np.array([[int(x) for x in line.split(\" \")] for line in data], dtype=\"float64\")\n",
    "    \n",
    "    if has_y:\n",
    "        # y is the first column while X is everything else\n",
    "        X = data[:, 1:]\n",
    "        y = data[:, 0]\n",
    "\n",
    "        return X, y\n",
    "    else:\n",
    "        return data\n",
    "    \n",
    "def grid_summary(grid):\n",
    "    print(\"Best parameters set found on development set:\\n\")\n",
    "    print(grid.best_params_)\n",
    "    print(\"Best CV score: \", grid.best_score_)\n",
    "    print()\n",
    "    print(\"Grid scores on development set:\\n\")\n",
    "\n",
    "    means = grid.cv_results_['mean_test_score']\n",
    "    stds = grid.cv_results_['std_test_score']\n",
    "    for mean, std, params in zip(means, stds, grid.cv_results_['params']):\n",
    "        print(\"%0.3f (+/-%0.03f) for %r\"\n",
    "              % (mean, std * 2, params))\n",
    "\n",
    "X_train, y_train = read_data(\"training_data.txt\", has_y=True)\n",
    "X_test = read_data(\"test_data.txt\", has_y=False)\n",
    "\n",
    "# Shuffle the order of the training data just in case\n",
    "X_train, y_train = sklearn.utils.shuffle(X_train, y_train)\n",
    "# Make a smaller dataset with only 10% the size\n",
    "X_train10 = X_train[:len(X_train)//10]\n",
    "y_train10 = y_train[:len(y_train)//10]"
   ]
  },
  {
   "cell_type": "code",
   "execution_count": 60,
   "metadata": {
    "scrolled": true
   },
   "outputs": [],
   "source": [
    "# Preliminary trial on full dataset\n",
    "# svc = SVC()\n",
    "# svc.fit(X_train, y_train)\n",
    "# svc.score(X_train, y_train)\n",
    "# >>> 0.84655\n",
    "# svc.support_.shape\n",
    "# >>> (1285,)"
   ]
  },
  {
   "cell_type": "code",
   "execution_count": 65,
   "metadata": {},
   "outputs": [],
   "source": [
    "pipe = make_pipeline(preprocessing.StandardScaler(), SVC(kernel=\"poly\"))\n",
    "grid = GridSearchCV(pipe, return_train_score=True, verbose=1,\n",
    "                    cv=3, \n",
    "                    param_grid={\"svc__C\":[0.01, 0.1, 1.0],\n",
    "                                \"svc__degree\":[2, 3, 4, 5],\n",
    "                                \"svc__gamma\":[0.0001, 0.001, 0.01],\n",
    "                                \"svc__coef0\":[0.0001, 0.001, 0.01]}, \n",
    "                    n_jobs=4)\n",
    "\n",
    "# grid = GridSearchCV(pipe, return_train_score=True, verbose=1,\n",
    "#                     cv=3, \n",
    "#                     param_grid={\"svc__C\":[0.01, 0.03, 0.1, 0.3, 1.0, 3.0],\n",
    "#                                 \"svc__degree\":[2, 3, 4, 5],\n",
    "#                                 \"svc__gamma\":[0.0001, 0.0003, 0.001, 0.003, 0.01, 0.03],\n",
    "#                                 \"svc__coef0\":[0.0001, 0.0003, 0.001, 0.003, 0.01, 0.03]}, \n",
    "#                     n_jobs=4)"
   ]
  },
  {
   "cell_type": "code",
   "execution_count": 66,
   "metadata": {
    "scrolled": true
   },
   "outputs": [
    {
     "name": "stdout",
     "output_type": "stream",
     "text": [
      "Fitting 3 folds for each of 108 candidates, totalling 324 fits\n"
     ]
    },
    {
     "name": "stderr",
     "output_type": "stream",
     "text": [
      "[Parallel(n_jobs=4)]: Done  42 tasks      | elapsed:  1.5min\n",
      "[Parallel(n_jobs=4)]: Done 192 tasks      | elapsed:  6.5min\n",
      "[Parallel(n_jobs=4)]: Done 324 out of 324 | elapsed: 11.0min finished\n"
     ]
    },
    {
     "name": "stdout",
     "output_type": "stream",
     "text": [
      "Best parameters set found on development set:\n",
      "\n",
      "{'svc__C': 1.0, 'svc__coef0': 0.01, 'svc__degree': 2, 'svc__gamma': 0.01}\n",
      "Best CV score:  0.677\n",
      "\n",
      "Grid scores on development set:\n",
      "\n",
      "0.502 (+/-0.001) for {'svc__C': 0.01, 'svc__coef0': 0.0001, 'svc__degree': 2, 'svc__gamma': 0.0001}\n",
      "0.502 (+/-0.001) for {'svc__C': 0.01, 'svc__coef0': 0.0001, 'svc__degree': 2, 'svc__gamma': 0.001}\n",
      "0.641 (+/-0.050) for {'svc__C': 0.01, 'svc__coef0': 0.0001, 'svc__degree': 2, 'svc__gamma': 0.01}\n",
      "0.502 (+/-0.001) for {'svc__C': 0.01, 'svc__coef0': 0.0001, 'svc__degree': 3, 'svc__gamma': 0.0001}\n",
      "0.502 (+/-0.001) for {'svc__C': 0.01, 'svc__coef0': 0.0001, 'svc__degree': 3, 'svc__gamma': 0.001}\n",
      "0.530 (+/-0.019) for {'svc__C': 0.01, 'svc__coef0': 0.0001, 'svc__degree': 3, 'svc__gamma': 0.01}\n",
      "0.502 (+/-0.001) for {'svc__C': 0.01, 'svc__coef0': 0.0001, 'svc__degree': 4, 'svc__gamma': 0.0001}\n",
      "0.502 (+/-0.001) for {'svc__C': 0.01, 'svc__coef0': 0.0001, 'svc__degree': 4, 'svc__gamma': 0.001}\n",
      "0.512 (+/-0.008) for {'svc__C': 0.01, 'svc__coef0': 0.0001, 'svc__degree': 4, 'svc__gamma': 0.01}\n",
      "0.502 (+/-0.001) for {'svc__C': 0.01, 'svc__coef0': 0.0001, 'svc__degree': 5, 'svc__gamma': 0.0001}\n",
      "0.502 (+/-0.003) for {'svc__C': 0.01, 'svc__coef0': 0.0001, 'svc__degree': 5, 'svc__gamma': 0.001}\n",
      "0.506 (+/-0.009) for {'svc__C': 0.01, 'svc__coef0': 0.0001, 'svc__degree': 5, 'svc__gamma': 0.01}\n",
      "0.502 (+/-0.001) for {'svc__C': 0.01, 'svc__coef0': 0.001, 'svc__degree': 2, 'svc__gamma': 0.0001}\n",
      "0.502 (+/-0.001) for {'svc__C': 0.01, 'svc__coef0': 0.001, 'svc__degree': 2, 'svc__gamma': 0.001}\n",
      "0.641 (+/-0.050) for {'svc__C': 0.01, 'svc__coef0': 0.001, 'svc__degree': 2, 'svc__gamma': 0.01}\n",
      "0.502 (+/-0.001) for {'svc__C': 0.01, 'svc__coef0': 0.001, 'svc__degree': 3, 'svc__gamma': 0.0001}\n",
      "0.502 (+/-0.001) for {'svc__C': 0.01, 'svc__coef0': 0.001, 'svc__degree': 3, 'svc__gamma': 0.001}\n",
      "0.530 (+/-0.019) for {'svc__C': 0.01, 'svc__coef0': 0.001, 'svc__degree': 3, 'svc__gamma': 0.01}\n",
      "0.502 (+/-0.001) for {'svc__C': 0.01, 'svc__coef0': 0.001, 'svc__degree': 4, 'svc__gamma': 0.0001}\n",
      "0.502 (+/-0.001) for {'svc__C': 0.01, 'svc__coef0': 0.001, 'svc__degree': 4, 'svc__gamma': 0.001}\n",
      "0.512 (+/-0.008) for {'svc__C': 0.01, 'svc__coef0': 0.001, 'svc__degree': 4, 'svc__gamma': 0.01}\n",
      "0.502 (+/-0.001) for {'svc__C': 0.01, 'svc__coef0': 0.001, 'svc__degree': 5, 'svc__gamma': 0.0001}\n",
      "0.502 (+/-0.003) for {'svc__C': 0.01, 'svc__coef0': 0.001, 'svc__degree': 5, 'svc__gamma': 0.001}\n",
      "0.506 (+/-0.009) for {'svc__C': 0.01, 'svc__coef0': 0.001, 'svc__degree': 5, 'svc__gamma': 0.01}\n",
      "0.502 (+/-0.001) for {'svc__C': 0.01, 'svc__coef0': 0.01, 'svc__degree': 2, 'svc__gamma': 0.0001}\n",
      "0.502 (+/-0.001) for {'svc__C': 0.01, 'svc__coef0': 0.01, 'svc__degree': 2, 'svc__gamma': 0.001}\n",
      "0.642 (+/-0.053) for {'svc__C': 0.01, 'svc__coef0': 0.01, 'svc__degree': 2, 'svc__gamma': 0.01}\n",
      "0.502 (+/-0.001) for {'svc__C': 0.01, 'svc__coef0': 0.01, 'svc__degree': 3, 'svc__gamma': 0.0001}\n",
      "0.502 (+/-0.001) for {'svc__C': 0.01, 'svc__coef0': 0.01, 'svc__degree': 3, 'svc__gamma': 0.001}\n",
      "0.530 (+/-0.017) for {'svc__C': 0.01, 'svc__coef0': 0.01, 'svc__degree': 3, 'svc__gamma': 0.01}\n",
      "0.502 (+/-0.001) for {'svc__C': 0.01, 'svc__coef0': 0.01, 'svc__degree': 4, 'svc__gamma': 0.0001}\n",
      "0.502 (+/-0.001) for {'svc__C': 0.01, 'svc__coef0': 0.01, 'svc__degree': 4, 'svc__gamma': 0.001}\n",
      "0.512 (+/-0.008) for {'svc__C': 0.01, 'svc__coef0': 0.01, 'svc__degree': 4, 'svc__gamma': 0.01}\n",
      "0.502 (+/-0.001) for {'svc__C': 0.01, 'svc__coef0': 0.01, 'svc__degree': 5, 'svc__gamma': 0.0001}\n",
      "0.502 (+/-0.003) for {'svc__C': 0.01, 'svc__coef0': 0.01, 'svc__degree': 5, 'svc__gamma': 0.001}\n",
      "0.506 (+/-0.009) for {'svc__C': 0.01, 'svc__coef0': 0.01, 'svc__degree': 5, 'svc__gamma': 0.01}\n",
      "0.502 (+/-0.001) for {'svc__C': 0.1, 'svc__coef0': 0.0001, 'svc__degree': 2, 'svc__gamma': 0.0001}\n",
      "0.503 (+/-0.003) for {'svc__C': 0.1, 'svc__coef0': 0.0001, 'svc__degree': 2, 'svc__gamma': 0.001}\n",
      "0.660 (+/-0.042) for {'svc__C': 0.1, 'svc__coef0': 0.0001, 'svc__degree': 2, 'svc__gamma': 0.01}\n",
      "0.502 (+/-0.001) for {'svc__C': 0.1, 'svc__coef0': 0.0001, 'svc__degree': 3, 'svc__gamma': 0.0001}\n",
      "0.506 (+/-0.001) for {'svc__C': 0.1, 'svc__coef0': 0.0001, 'svc__degree': 3, 'svc__gamma': 0.001}\n",
      "0.564 (+/-0.057) for {'svc__C': 0.1, 'svc__coef0': 0.0001, 'svc__degree': 3, 'svc__gamma': 0.01}\n",
      "0.502 (+/-0.001) for {'svc__C': 0.1, 'svc__coef0': 0.0001, 'svc__degree': 4, 'svc__gamma': 0.0001}\n",
      "0.508 (+/-0.014) for {'svc__C': 0.1, 'svc__coef0': 0.0001, 'svc__degree': 4, 'svc__gamma': 0.001}\n",
      "0.524 (+/-0.010) for {'svc__C': 0.1, 'svc__coef0': 0.0001, 'svc__degree': 4, 'svc__gamma': 0.01}\n",
      "0.502 (+/-0.001) for {'svc__C': 0.1, 'svc__coef0': 0.0001, 'svc__degree': 5, 'svc__gamma': 0.0001}\n",
      "0.496 (+/-0.003) for {'svc__C': 0.1, 'svc__coef0': 0.0001, 'svc__degree': 5, 'svc__gamma': 0.001}\n",
      "0.510 (+/-0.011) for {'svc__C': 0.1, 'svc__coef0': 0.0001, 'svc__degree': 5, 'svc__gamma': 0.01}\n",
      "0.502 (+/-0.001) for {'svc__C': 0.1, 'svc__coef0': 0.001, 'svc__degree': 2, 'svc__gamma': 0.0001}\n",
      "0.503 (+/-0.003) for {'svc__C': 0.1, 'svc__coef0': 0.001, 'svc__degree': 2, 'svc__gamma': 0.001}\n",
      "0.660 (+/-0.043) for {'svc__C': 0.1, 'svc__coef0': 0.001, 'svc__degree': 2, 'svc__gamma': 0.01}\n",
      "0.502 (+/-0.001) for {'svc__C': 0.1, 'svc__coef0': 0.001, 'svc__degree': 3, 'svc__gamma': 0.0001}\n",
      "0.506 (+/-0.001) for {'svc__C': 0.1, 'svc__coef0': 0.001, 'svc__degree': 3, 'svc__gamma': 0.001}\n",
      "0.564 (+/-0.057) for {'svc__C': 0.1, 'svc__coef0': 0.001, 'svc__degree': 3, 'svc__gamma': 0.01}\n",
      "0.502 (+/-0.001) for {'svc__C': 0.1, 'svc__coef0': 0.001, 'svc__degree': 4, 'svc__gamma': 0.0001}\n",
      "0.508 (+/-0.014) for {'svc__C': 0.1, 'svc__coef0': 0.001, 'svc__degree': 4, 'svc__gamma': 0.001}\n",
      "0.524 (+/-0.010) for {'svc__C': 0.1, 'svc__coef0': 0.001, 'svc__degree': 4, 'svc__gamma': 0.01}\n",
      "0.502 (+/-0.001) for {'svc__C': 0.1, 'svc__coef0': 0.001, 'svc__degree': 5, 'svc__gamma': 0.0001}\n",
      "0.496 (+/-0.003) for {'svc__C': 0.1, 'svc__coef0': 0.001, 'svc__degree': 5, 'svc__gamma': 0.001}\n",
      "0.510 (+/-0.011) for {'svc__C': 0.1, 'svc__coef0': 0.001, 'svc__degree': 5, 'svc__gamma': 0.01}\n",
      "0.502 (+/-0.001) for {'svc__C': 0.1, 'svc__coef0': 0.01, 'svc__degree': 2, 'svc__gamma': 0.0001}\n",
      "0.503 (+/-0.003) for {'svc__C': 0.1, 'svc__coef0': 0.01, 'svc__degree': 2, 'svc__gamma': 0.001}\n",
      "0.661 (+/-0.045) for {'svc__C': 0.1, 'svc__coef0': 0.01, 'svc__degree': 2, 'svc__gamma': 0.01}\n",
      "0.502 (+/-0.001) for {'svc__C': 0.1, 'svc__coef0': 0.01, 'svc__degree': 3, 'svc__gamma': 0.0001}\n",
      "0.507 (+/-0.003) for {'svc__C': 0.1, 'svc__coef0': 0.01, 'svc__degree': 3, 'svc__gamma': 0.001}\n",
      "0.566 (+/-0.058) for {'svc__C': 0.1, 'svc__coef0': 0.01, 'svc__degree': 3, 'svc__gamma': 0.01}\n",
      "0.502 (+/-0.001) for {'svc__C': 0.1, 'svc__coef0': 0.01, 'svc__degree': 4, 'svc__gamma': 0.0001}\n",
      "0.510 (+/-0.011) for {'svc__C': 0.1, 'svc__coef0': 0.01, 'svc__degree': 4, 'svc__gamma': 0.001}\n",
      "0.526 (+/-0.013) for {'svc__C': 0.1, 'svc__coef0': 0.01, 'svc__degree': 4, 'svc__gamma': 0.01}\n",
      "0.502 (+/-0.001) for {'svc__C': 0.1, 'svc__coef0': 0.01, 'svc__degree': 5, 'svc__gamma': 0.0001}\n",
      "0.496 (+/-0.003) for {'svc__C': 0.1, 'svc__coef0': 0.01, 'svc__degree': 5, 'svc__gamma': 0.001}\n",
      "0.511 (+/-0.009) for {'svc__C': 0.1, 'svc__coef0': 0.01, 'svc__degree': 5, 'svc__gamma': 0.01}\n",
      "0.502 (+/-0.001) for {'svc__C': 1.0, 'svc__coef0': 0.0001, 'svc__degree': 2, 'svc__gamma': 0.0001}\n",
      "0.641 (+/-0.050) for {'svc__C': 1.0, 'svc__coef0': 0.0001, 'svc__degree': 2, 'svc__gamma': 0.001}\n",
      "0.672 (+/-0.054) for {'svc__C': 1.0, 'svc__coef0': 0.0001, 'svc__degree': 2, 'svc__gamma': 0.01}\n",
      "0.502 (+/-0.001) for {'svc__C': 1.0, 'svc__coef0': 0.0001, 'svc__degree': 3, 'svc__gamma': 0.0001}\n",
      "0.515 (+/-0.005) for {'svc__C': 1.0, 'svc__coef0': 0.0001, 'svc__degree': 3, 'svc__gamma': 0.001}\n",
      "0.594 (+/-0.088) for {'svc__C': 1.0, 'svc__coef0': 0.0001, 'svc__degree': 3, 'svc__gamma': 0.01}\n",
      "0.502 (+/-0.001) for {'svc__C': 1.0, 'svc__coef0': 0.0001, 'svc__degree': 4, 'svc__gamma': 0.0001}\n",
      "0.496 (+/-0.004) for {'svc__C': 1.0, 'svc__coef0': 0.0001, 'svc__degree': 4, 'svc__gamma': 0.001}\n",
      "0.564 (+/-0.085) for {'svc__C': 1.0, 'svc__coef0': 0.0001, 'svc__degree': 4, 'svc__gamma': 0.01}\n",
      "0.502 (+/-0.001) for {'svc__C': 1.0, 'svc__coef0': 0.0001, 'svc__degree': 5, 'svc__gamma': 0.0001}\n",
      "0.497 (+/-0.003) for {'svc__C': 1.0, 'svc__coef0': 0.0001, 'svc__degree': 5, 'svc__gamma': 0.001}\n",
      "0.517 (+/-0.011) for {'svc__C': 1.0, 'svc__coef0': 0.0001, 'svc__degree': 5, 'svc__gamma': 0.01}\n",
      "0.502 (+/-0.001) for {'svc__C': 1.0, 'svc__coef0': 0.001, 'svc__degree': 2, 'svc__gamma': 0.0001}\n",
      "0.642 (+/-0.053) for {'svc__C': 1.0, 'svc__coef0': 0.001, 'svc__degree': 2, 'svc__gamma': 0.001}\n",
      "0.673 (+/-0.051) for {'svc__C': 1.0, 'svc__coef0': 0.001, 'svc__degree': 2, 'svc__gamma': 0.01}\n",
      "0.502 (+/-0.001) for {'svc__C': 1.0, 'svc__coef0': 0.001, 'svc__degree': 3, 'svc__gamma': 0.0001}\n",
      "0.515 (+/-0.005) for {'svc__C': 1.0, 'svc__coef0': 0.001, 'svc__degree': 3, 'svc__gamma': 0.001}\n",
      "0.594 (+/-0.088) for {'svc__C': 1.0, 'svc__coef0': 0.001, 'svc__degree': 3, 'svc__gamma': 0.01}\n",
      "0.502 (+/-0.001) for {'svc__C': 1.0, 'svc__coef0': 0.001, 'svc__degree': 4, 'svc__gamma': 0.0001}\n",
      "0.496 (+/-0.004) for {'svc__C': 1.0, 'svc__coef0': 0.001, 'svc__degree': 4, 'svc__gamma': 0.001}\n",
      "0.564 (+/-0.085) for {'svc__C': 1.0, 'svc__coef0': 0.001, 'svc__degree': 4, 'svc__gamma': 0.01}\n",
      "0.502 (+/-0.001) for {'svc__C': 1.0, 'svc__coef0': 0.001, 'svc__degree': 5, 'svc__gamma': 0.0001}\n",
      "0.497 (+/-0.003) for {'svc__C': 1.0, 'svc__coef0': 0.001, 'svc__degree': 5, 'svc__gamma': 0.001}\n",
      "0.516 (+/-0.009) for {'svc__C': 1.0, 'svc__coef0': 0.001, 'svc__degree': 5, 'svc__gamma': 0.01}\n",
      "0.502 (+/-0.001) for {'svc__C': 1.0, 'svc__coef0': 0.01, 'svc__degree': 2, 'svc__gamma': 0.0001}\n",
      "0.658 (+/-0.060) for {'svc__C': 1.0, 'svc__coef0': 0.01, 'svc__degree': 2, 'svc__gamma': 0.001}\n",
      "0.677 (+/-0.048) for {'svc__C': 1.0, 'svc__coef0': 0.01, 'svc__degree': 2, 'svc__gamma': 0.01}\n",
      "0.502 (+/-0.001) for {'svc__C': 1.0, 'svc__coef0': 0.01, 'svc__degree': 3, 'svc__gamma': 0.0001}\n",
      "0.517 (+/-0.003) for {'svc__C': 1.0, 'svc__coef0': 0.01, 'svc__degree': 3, 'svc__gamma': 0.001}\n",
      "0.598 (+/-0.090) for {'svc__C': 1.0, 'svc__coef0': 0.01, 'svc__degree': 3, 'svc__gamma': 0.01}\n",
      "0.502 (+/-0.001) for {'svc__C': 1.0, 'svc__coef0': 0.01, 'svc__degree': 4, 'svc__gamma': 0.0001}\n",
      "0.497 (+/-0.004) for {'svc__C': 1.0, 'svc__coef0': 0.01, 'svc__degree': 4, 'svc__gamma': 0.001}\n",
      "0.564 (+/-0.085) for {'svc__C': 1.0, 'svc__coef0': 0.01, 'svc__degree': 4, 'svc__gamma': 0.01}\n",
      "0.502 (+/-0.001) for {'svc__C': 1.0, 'svc__coef0': 0.01, 'svc__degree': 5, 'svc__gamma': 0.0001}\n",
      "0.497 (+/-0.003) for {'svc__C': 1.0, 'svc__coef0': 0.01, 'svc__degree': 5, 'svc__gamma': 0.001}\n",
      "0.514 (+/-0.005) for {'svc__C': 1.0, 'svc__coef0': 0.01, 'svc__degree': 5, 'svc__gamma': 0.01}\n"
     ]
    }
   ],
   "source": [
    "# As a test just fit on 10% to check parameter values to use \n",
    "grid.fit(X_train10, y_train10)\n",
    "grid_summary(grid)"
   ]
  },
  {
   "cell_type": "code",
   "execution_count": 67,
   "metadata": {
    "scrolled": false
   },
   "outputs": [
    {
     "name": "stdout",
     "output_type": "stream",
     "text": [
      "Fitting 3 folds for each of 27 candidates, totalling 81 fits\n"
     ]
    },
    {
     "name": "stderr",
     "output_type": "stream",
     "text": [
      "[Parallel(n_jobs=4)]: Done  42 tasks      | elapsed:  1.7min\n",
      "[Parallel(n_jobs=4)]: Done  81 out of  81 | elapsed:  3.0min finished\n"
     ]
    },
    {
     "name": "stdout",
     "output_type": "stream",
     "text": [
      "Best parameters set found on development set:\n",
      "\n",
      "{'svc__C': 1.0, 'svc__degree': 2, 'svc__gamma': 0.01}\n",
      "Best CV score:  0.672\n",
      "\n",
      "Grid scores on development set:\n",
      "\n",
      "0.672 (+/-0.054) for {'svc__C': 1.0, 'svc__degree': 2, 'svc__gamma': 0.01}\n",
      "0.664 (+/-0.031) for {'svc__C': 1.0, 'svc__degree': 2, 'svc__gamma': 0.03}\n",
      "0.657 (+/-0.037) for {'svc__C': 1.0, 'svc__degree': 2, 'svc__gamma': 0.1}\n",
      "0.594 (+/-0.088) for {'svc__C': 1.0, 'svc__degree': 3, 'svc__gamma': 0.01}\n",
      "0.558 (+/-0.071) for {'svc__C': 1.0, 'svc__degree': 3, 'svc__gamma': 0.03}\n",
      "0.558 (+/-0.071) for {'svc__C': 1.0, 'svc__degree': 3, 'svc__gamma': 0.1}\n",
      "0.564 (+/-0.085) for {'svc__C': 1.0, 'svc__degree': 4, 'svc__gamma': 0.01}\n",
      "0.514 (+/-0.006) for {'svc__C': 1.0, 'svc__degree': 4, 'svc__gamma': 0.03}\n",
      "0.514 (+/-0.006) for {'svc__C': 1.0, 'svc__degree': 4, 'svc__gamma': 0.1}\n",
      "0.666 (+/-0.044) for {'svc__C': 3.0, 'svc__degree': 2, 'svc__gamma': 0.01}\n",
      "0.657 (+/-0.037) for {'svc__C': 3.0, 'svc__degree': 2, 'svc__gamma': 0.03}\n",
      "0.657 (+/-0.037) for {'svc__C': 3.0, 'svc__degree': 2, 'svc__gamma': 0.1}\n",
      "0.588 (+/-0.095) for {'svc__C': 3.0, 'svc__degree': 3, 'svc__gamma': 0.01}\n",
      "0.558 (+/-0.071) for {'svc__C': 3.0, 'svc__degree': 3, 'svc__gamma': 0.03}\n",
      "0.558 (+/-0.071) for {'svc__C': 3.0, 'svc__degree': 3, 'svc__gamma': 0.1}\n",
      "0.538 (+/-0.039) for {'svc__C': 3.0, 'svc__degree': 4, 'svc__gamma': 0.01}\n",
      "0.514 (+/-0.006) for {'svc__C': 3.0, 'svc__degree': 4, 'svc__gamma': 0.03}\n",
      "0.514 (+/-0.006) for {'svc__C': 3.0, 'svc__degree': 4, 'svc__gamma': 0.1}\n",
      "0.662 (+/-0.033) for {'svc__C': 10.0, 'svc__degree': 2, 'svc__gamma': 0.01}\n",
      "0.657 (+/-0.037) for {'svc__C': 10.0, 'svc__degree': 2, 'svc__gamma': 0.03}\n",
      "0.657 (+/-0.037) for {'svc__C': 10.0, 'svc__degree': 2, 'svc__gamma': 0.1}\n",
      "0.559 (+/-0.069) for {'svc__C': 10.0, 'svc__degree': 3, 'svc__gamma': 0.01}\n",
      "0.558 (+/-0.071) for {'svc__C': 10.0, 'svc__degree': 3, 'svc__gamma': 0.03}\n",
      "0.558 (+/-0.071) for {'svc__C': 10.0, 'svc__degree': 3, 'svc__gamma': 0.1}\n",
      "0.517 (+/-0.002) for {'svc__C': 10.0, 'svc__degree': 4, 'svc__gamma': 0.01}\n",
      "0.514 (+/-0.006) for {'svc__C': 10.0, 'svc__degree': 4, 'svc__gamma': 0.03}\n",
      "0.514 (+/-0.006) for {'svc__C': 10.0, 'svc__degree': 4, 'svc__gamma': 0.1}\n"
     ]
    }
   ],
   "source": [
    "grid = GridSearchCV(pipe, return_train_score=True, verbose=1,\n",
    "                    cv=3, \n",
    "                    param_grid={\"svc__C\":[1.0, 3.0, 10.0],\n",
    "                                \"svc__degree\":[2, 3, 4],\n",
    "                                \"svc__gamma\":[0.01, 0.03, 0.1]}, \n",
    "                    n_jobs=4)\n",
    "grid.fit(X_train10, y_train10)\n",
    "grid_summary(grid)"
   ]
  },
  {
   "cell_type": "code",
   "execution_count": 69,
   "metadata": {},
   "outputs": [
    {
     "name": "stdout",
     "output_type": "stream",
     "text": [
      "Fitting 3 folds for each of 18 candidates, totalling 54 fits\n"
     ]
    },
    {
     "name": "stderr",
     "output_type": "stream",
     "text": [
      "[Parallel(n_jobs=4)]: Done  42 tasks      | elapsed: 251.3min\n",
      "[Parallel(n_jobs=4)]: Done  54 out of  54 | elapsed: 328.1min finished\n"
     ]
    },
    {
     "name": "stdout",
     "output_type": "stream",
     "text": [
      "Best parameters set found on development set:\n",
      "\n",
      "{'svc__C': 1.0, 'svc__degree': 2, 'svc__gamma': 0.003}\n",
      "Best CV score:  0.792\n",
      "\n",
      "Grid scores on development set:\n",
      "\n",
      "0.785 (+/-0.008) for {'svc__C': 0.3, 'svc__degree': 2, 'svc__gamma': 0.003}\n",
      "0.786 (+/-0.009) for {'svc__C': 0.3, 'svc__degree': 2, 'svc__gamma': 0.01}\n",
      "0.775 (+/-0.002) for {'svc__C': 0.3, 'svc__degree': 2, 'svc__gamma': 0.03}\n",
      "0.662 (+/-0.009) for {'svc__C': 0.3, 'svc__degree': 3, 'svc__gamma': 0.003}\n",
      "0.740 (+/-0.007) for {'svc__C': 0.3, 'svc__degree': 3, 'svc__gamma': 0.01}\n",
      "0.752 (+/-0.008) for {'svc__C': 0.3, 'svc__degree': 3, 'svc__gamma': 0.03}\n",
      "0.792 (+/-0.009) for {'svc__C': 1.0, 'svc__degree': 2, 'svc__gamma': 0.003}\n",
      "0.779 (+/-0.002) for {'svc__C': 1.0, 'svc__degree': 2, 'svc__gamma': 0.01}\n",
      "0.771 (+/-0.003) for {'svc__C': 1.0, 'svc__degree': 2, 'svc__gamma': 0.03}\n",
      "0.703 (+/-0.003) for {'svc__C': 1.0, 'svc__degree': 3, 'svc__gamma': 0.003}\n",
      "0.750 (+/-0.007) for {'svc__C': 1.0, 'svc__degree': 3, 'svc__gamma': 0.01}\n",
      "0.747 (+/-0.016) for {'svc__C': 1.0, 'svc__degree': 3, 'svc__gamma': 0.03}\n",
      "0.787 (+/-0.009) for {'svc__C': 3.0, 'svc__degree': 2, 'svc__gamma': 0.003}\n",
      "0.774 (+/-0.001) for {'svc__C': 3.0, 'svc__degree': 2, 'svc__gamma': 0.01}\n",
      "0.765 (+/-0.007) for {'svc__C': 3.0, 'svc__degree': 2, 'svc__gamma': 0.03}\n",
      "0.728 (+/-0.009) for {'svc__C': 3.0, 'svc__degree': 3, 'svc__gamma': 0.003}\n",
      "0.751 (+/-0.007) for {'svc__C': 3.0, 'svc__degree': 3, 'svc__gamma': 0.01}\n",
      "0.743 (+/-0.016) for {'svc__C': 3.0, 'svc__degree': 3, 'svc__gamma': 0.03}\n"
     ]
    }
   ],
   "source": [
    "grid = GridSearchCV(pipe, return_train_score=True, verbose=1,\n",
    "                    cv=3, \n",
    "                    param_grid={\"svc__C\":[0.3, 1.0, 3.0],\n",
    "                                \"svc__degree\":[2, 3],\n",
    "                                \"svc__gamma\":[0.003, 0.01, 0.03]}, \n",
    "                    n_jobs=4)\n",
    "grid.fit(X_train, y_train)\n",
    "grid_summary(grid)"
   ]
  },
  {
   "cell_type": "code",
   "execution_count": 70,
   "metadata": {},
   "outputs": [
    {
     "name": "stdout",
     "output_type": "stream",
     "text": [
      "0.99085\n"
     ]
    }
   ],
   "source": [
    "# Check the training score in comparison with the CV score above\n",
    "print(grid.score(X_train, y_train))"
   ]
  },
  {
   "cell_type": "code",
   "execution_count": 71,
   "metadata": {},
   "outputs": [],
   "source": [
    "pred = grid.predict(X_test)"
   ]
  },
  {
   "cell_type": "code",
   "execution_count": 73,
   "metadata": {},
   "outputs": [],
   "source": [
    "with open(\"out4.txt\", \"w\") as f:\n",
    "    f.write(\"Id,Prediction\\n\")\n",
    "    for i in range(len(pred)):\n",
    "        f.write(\"{0},{1}\\n\".format(i+1, int(pred[i])))"
   ]
  },
  {
   "cell_type": "code",
   "execution_count": null,
   "metadata": {},
   "outputs": [],
   "source": []
  }
 ],
 "metadata": {
  "kernelspec": {
   "display_name": "Python 3",
   "language": "python",
   "name": "python3"
  },
  "language_info": {
   "codemirror_mode": {
    "name": "ipython",
    "version": 3
   },
   "file_extension": ".py",
   "mimetype": "text/x-python",
   "name": "python",
   "nbconvert_exporter": "python",
   "pygments_lexer": "ipython3",
   "version": "3.6.2"
  }
 },
 "nbformat": 4,
 "nbformat_minor": 2
}
