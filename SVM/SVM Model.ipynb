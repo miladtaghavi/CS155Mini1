{
 "cells": [
  {
   "cell_type": "code",
   "execution_count": 78,
   "metadata": {},
   "outputs": [],
   "source": [
    "import numpy as np\n",
    "import matplotlib.pyplot as plt\n",
    "\n",
    "import sklearn\n",
    "from sklearn import preprocessing\n",
    "from sklearn.svm import SVC\n",
    "from sklearn.pipeline import make_pipeline\n",
    "from sklearn.model_selection import cross_val_score, GridSearchCV"
   ]
  },
  {
   "cell_type": "code",
   "execution_count": 79,
   "metadata": {},
   "outputs": [],
   "source": [
    "def read_data(filename, has_y):\n",
    "    with open(filename, \"r\") as f:\n",
    "        data = f.readlines()\n",
    "\n",
    "    # Slice off first line which is the list of words\n",
    "    data = data[1:]\n",
    "    # Split the string on each line into ints and convert to numpy array\n",
    "    data = np.array([[int(x) for x in line.split(\" \")] for line in data], dtype=\"float64\")\n",
    "    \n",
    "    if has_y:\n",
    "        # y is the first column while X is everything else\n",
    "        X = data[:, 1:]\n",
    "        y = data[:, 0]\n",
    "\n",
    "        return X, y\n",
    "    else:\n",
    "        return data\n",
    "    \n",
    "def grid_summary(grid):\n",
    "    print(\"Best parameters set found on development set:\\n\")\n",
    "    print(grid.best_params_)\n",
    "    print(\"Best CV score: \", grid.best_score_)\n",
    "    print()\n",
    "    print(\"Grid scores on development set:\\n\")\n",
    "\n",
    "    means = grid.cv_results_['mean_test_score']\n",
    "    stds = grid.cv_results_['std_test_score']\n",
    "    for mean, std, params in zip(means, stds, grid.cv_results_['params']):\n",
    "        print(\"%0.3f (+/-%0.03f) for %r\"\n",
    "              % (mean, std * 2, params))\n",
    "\n",
    "X_train, y_train = read_data(\"training_data.txt\", has_y=True)\n",
    "X_test = read_data(\"test_data.txt\", has_y=False)\n",
    "\n",
    "# Shuffle the order of the training data just in case\n",
    "X_train, y_train = sklearn.utils.shuffle(X_train, y_train)\n",
    "# Make a smaller dataset with only 10% the size\n",
    "X_train10 = X_train[:len(X_train)//10]\n",
    "y_train10 = y_train[:len(y_train)//10]"
   ]
  },
  {
   "cell_type": "code",
   "execution_count": 60,
   "metadata": {
    "scrolled": true
   },
   "outputs": [],
   "source": [
    "# Preliminary trial on full dataset\n",
    "# svc = SVC()\n",
    "# svc.fit(X_train, y_train)\n",
    "# svc.score(X_train, y_train)\n",
    "# >>> 0.84655\n",
    "# svc.support_.shape\n",
    "# >>> (1285,)"
   ]
  },
  {
   "cell_type": "code",
   "execution_count": 82,
   "metadata": {},
   "outputs": [],
   "source": [
    "pipe = make_pipeline(preprocessing.StandardScaler(), SVC(kernel=\"sigmoid\"))\n",
    "grid = GridSearchCV(pipe, return_train_score=True, verbose=1,\n",
    "                    cv=3, \n",
    "                    param_grid={\"svc__C\":[0.1, 0.3, 1.0, 3.0],\n",
    "                                \"svc__gamma\":[0.0003, 0.001, 0.003, 0.01, 0.03],\n",
    "                                \"svc__coef0\":[0.0001, 0.0003, 0.001]}, \n",
    "                    n_jobs=4)\n",
    "\n",
    "# grid = GridSearchCV(pipe, return_train_score=True, verbose=1,\n",
    "#                     cv=3, \n",
    "#                     param_grid={\"svc__C\":[0.01, 0.03, 0.1, 0.3, 1.0, 3.0],\n",
    "#                                 \"svc__degree\":[2, 3, 4, 5],\n",
    "#                                 \"svc__gamma\":[0.0001, 0.0003, 0.001, 0.003, 0.01, 0.03],\n",
    "#                                 \"svc__coef0\":[0.0001, 0.0003, 0.001, 0.003, 0.01, 0.03]}, \n",
    "#                     n_jobs=4)"
   ]
  },
  {
   "cell_type": "code",
   "execution_count": 83,
   "metadata": {
    "scrolled": false
   },
   "outputs": [
    {
     "name": "stdout",
     "output_type": "stream",
     "text": [
      "Fitting 3 folds for each of 60 candidates, totalling 180 fits\n"
     ]
    },
    {
     "name": "stderr",
     "output_type": "stream",
     "text": [
      "[Parallel(n_jobs=4)]: Done  42 tasks      | elapsed:  1.3min\n",
      "[Parallel(n_jobs=4)]: Done 180 out of 180 | elapsed:  4.4min finished\n"
     ]
    },
    {
     "name": "stdout",
     "output_type": "stream",
     "text": [
      "Best parameters set found on development set:\n",
      "\n",
      "{'svc__C': 0.1, 'svc__coef0': 0.0001, 'svc__gamma': 0.01}\n",
      "Best CV score:  0.806\n",
      "\n",
      "Grid scores on development set:\n",
      "\n",
      "0.511 (+/-0.001) for {'svc__C': 0.1, 'svc__coef0': 0.0001, 'svc__gamma': 0.0003}\n",
      "0.574 (+/-0.006) for {'svc__C': 0.1, 'svc__coef0': 0.0001, 'svc__gamma': 0.001}\n",
      "0.762 (+/-0.038) for {'svc__C': 0.1, 'svc__coef0': 0.0001, 'svc__gamma': 0.003}\n",
      "0.806 (+/-0.006) for {'svc__C': 0.1, 'svc__coef0': 0.0001, 'svc__gamma': 0.01}\n",
      "0.786 (+/-0.001) for {'svc__C': 0.1, 'svc__coef0': 0.0001, 'svc__gamma': 0.03}\n",
      "0.511 (+/-0.001) for {'svc__C': 0.1, 'svc__coef0': 0.0003, 'svc__gamma': 0.0003}\n",
      "0.574 (+/-0.006) for {'svc__C': 0.1, 'svc__coef0': 0.0003, 'svc__gamma': 0.001}\n",
      "0.762 (+/-0.038) for {'svc__C': 0.1, 'svc__coef0': 0.0003, 'svc__gamma': 0.003}\n",
      "0.806 (+/-0.012) for {'svc__C': 0.1, 'svc__coef0': 0.0003, 'svc__gamma': 0.01}\n",
      "0.786 (+/-0.006) for {'svc__C': 0.1, 'svc__coef0': 0.0003, 'svc__gamma': 0.03}\n",
      "0.511 (+/-0.001) for {'svc__C': 0.1, 'svc__coef0': 0.001, 'svc__gamma': 0.0003}\n",
      "0.574 (+/-0.006) for {'svc__C': 0.1, 'svc__coef0': 0.001, 'svc__gamma': 0.001}\n",
      "0.762 (+/-0.038) for {'svc__C': 0.1, 'svc__coef0': 0.001, 'svc__gamma': 0.003}\n",
      "0.795 (+/-0.005) for {'svc__C': 0.1, 'svc__coef0': 0.001, 'svc__gamma': 0.01}\n",
      "0.787 (+/-0.003) for {'svc__C': 0.1, 'svc__coef0': 0.001, 'svc__gamma': 0.03}\n",
      "0.555 (+/-0.003) for {'svc__C': 0.3, 'svc__coef0': 0.0001, 'svc__gamma': 0.0003}\n",
      "0.760 (+/-0.033) for {'svc__C': 0.3, 'svc__coef0': 0.0001, 'svc__gamma': 0.001}\n",
      "0.795 (+/-0.022) for {'svc__C': 0.3, 'svc__coef0': 0.0001, 'svc__gamma': 0.003}\n",
      "0.789 (+/-0.006) for {'svc__C': 0.3, 'svc__coef0': 0.0001, 'svc__gamma': 0.01}\n",
      "0.768 (+/-0.007) for {'svc__C': 0.3, 'svc__coef0': 0.0001, 'svc__gamma': 0.03}\n",
      "0.555 (+/-0.003) for {'svc__C': 0.3, 'svc__coef0': 0.0003, 'svc__gamma': 0.0003}\n",
      "0.760 (+/-0.033) for {'svc__C': 0.3, 'svc__coef0': 0.0003, 'svc__gamma': 0.001}\n",
      "0.795 (+/-0.021) for {'svc__C': 0.3, 'svc__coef0': 0.0003, 'svc__gamma': 0.003}\n",
      "0.785 (+/-0.016) for {'svc__C': 0.3, 'svc__coef0': 0.0003, 'svc__gamma': 0.01}\n",
      "0.768 (+/-0.007) for {'svc__C': 0.3, 'svc__coef0': 0.0003, 'svc__gamma': 0.03}\n",
      "0.555 (+/-0.003) for {'svc__C': 0.3, 'svc__coef0': 0.001, 'svc__gamma': 0.0003}\n",
      "0.760 (+/-0.033) for {'svc__C': 0.3, 'svc__coef0': 0.001, 'svc__gamma': 0.001}\n",
      "0.794 (+/-0.015) for {'svc__C': 0.3, 'svc__coef0': 0.001, 'svc__gamma': 0.003}\n",
      "0.787 (+/-0.018) for {'svc__C': 0.3, 'svc__coef0': 0.001, 'svc__gamma': 0.01}\n",
      "0.765 (+/-0.017) for {'svc__C': 0.3, 'svc__coef0': 0.001, 'svc__gamma': 0.03}\n",
      "0.761 (+/-0.042) for {'svc__C': 1.0, 'svc__coef0': 0.0001, 'svc__gamma': 0.0003}\n",
      "0.781 (+/-0.028) for {'svc__C': 1.0, 'svc__coef0': 0.0001, 'svc__gamma': 0.001}\n",
      "0.771 (+/-0.040) for {'svc__C': 1.0, 'svc__coef0': 0.0001, 'svc__gamma': 0.003}\n",
      "0.761 (+/-0.011) for {'svc__C': 1.0, 'svc__coef0': 0.0001, 'svc__gamma': 0.01}\n",
      "0.744 (+/-0.010) for {'svc__C': 1.0, 'svc__coef0': 0.0001, 'svc__gamma': 0.03}\n",
      "0.761 (+/-0.042) for {'svc__C': 1.0, 'svc__coef0': 0.0003, 'svc__gamma': 0.0003}\n",
      "0.781 (+/-0.028) for {'svc__C': 1.0, 'svc__coef0': 0.0003, 'svc__gamma': 0.001}\n",
      "0.776 (+/-0.040) for {'svc__C': 1.0, 'svc__coef0': 0.0003, 'svc__gamma': 0.003}\n",
      "0.761 (+/-0.014) for {'svc__C': 1.0, 'svc__coef0': 0.0003, 'svc__gamma': 0.01}\n",
      "0.746 (+/-0.002) for {'svc__C': 1.0, 'svc__coef0': 0.0003, 'svc__gamma': 0.03}\n",
      "0.761 (+/-0.042) for {'svc__C': 1.0, 'svc__coef0': 0.001, 'svc__gamma': 0.0003}\n",
      "0.782 (+/-0.029) for {'svc__C': 1.0, 'svc__coef0': 0.001, 'svc__gamma': 0.001}\n",
      "0.772 (+/-0.024) for {'svc__C': 1.0, 'svc__coef0': 0.001, 'svc__gamma': 0.003}\n",
      "0.755 (+/-0.022) for {'svc__C': 1.0, 'svc__coef0': 0.001, 'svc__gamma': 0.01}\n",
      "0.741 (+/-0.025) for {'svc__C': 1.0, 'svc__coef0': 0.001, 'svc__gamma': 0.03}\n",
      "0.782 (+/-0.037) for {'svc__C': 3.0, 'svc__coef0': 0.0001, 'svc__gamma': 0.0003}\n",
      "0.762 (+/-0.042) for {'svc__C': 3.0, 'svc__coef0': 0.0001, 'svc__gamma': 0.001}\n",
      "0.752 (+/-0.010) for {'svc__C': 3.0, 'svc__coef0': 0.0001, 'svc__gamma': 0.003}\n",
      "0.745 (+/-0.027) for {'svc__C': 3.0, 'svc__coef0': 0.0001, 'svc__gamma': 0.01}\n",
      "0.736 (+/-0.020) for {'svc__C': 3.0, 'svc__coef0': 0.0001, 'svc__gamma': 0.03}\n",
      "0.782 (+/-0.037) for {'svc__C': 3.0, 'svc__coef0': 0.0003, 'svc__gamma': 0.0003}\n",
      "0.763 (+/-0.043) for {'svc__C': 3.0, 'svc__coef0': 0.0003, 'svc__gamma': 0.001}\n",
      "0.752 (+/-0.007) for {'svc__C': 3.0, 'svc__coef0': 0.0003, 'svc__gamma': 0.003}\n",
      "0.750 (+/-0.016) for {'svc__C': 3.0, 'svc__coef0': 0.0003, 'svc__gamma': 0.01}\n",
      "0.736 (+/-0.020) for {'svc__C': 3.0, 'svc__coef0': 0.0003, 'svc__gamma': 0.03}\n",
      "0.781 (+/-0.039) for {'svc__C': 3.0, 'svc__coef0': 0.001, 'svc__gamma': 0.0003}\n",
      "0.763 (+/-0.045) for {'svc__C': 3.0, 'svc__coef0': 0.001, 'svc__gamma': 0.001}\n",
      "0.743 (+/-0.016) for {'svc__C': 3.0, 'svc__coef0': 0.001, 'svc__gamma': 0.003}\n",
      "0.751 (+/-0.013) for {'svc__C': 3.0, 'svc__coef0': 0.001, 'svc__gamma': 0.01}\n",
      "0.732 (+/-0.012) for {'svc__C': 3.0, 'svc__coef0': 0.001, 'svc__gamma': 0.03}\n"
     ]
    }
   ],
   "source": [
    "# As a test just fit on 10% to check parameter values to use \n",
    "grid.fit(X_train10, y_train10)\n",
    "grid_summary(grid)"
   ]
  },
  {
   "cell_type": "code",
   "execution_count": 86,
   "metadata": {},
   "outputs": [
    {
     "name": "stdout",
     "output_type": "stream",
     "text": [
      "Fitting 5 folds for each of 12 candidates, totalling 60 fits\n"
     ]
    },
    {
     "name": "stderr",
     "output_type": "stream",
     "text": [
      "[Parallel(n_jobs=4)]: Done  42 tasks      | elapsed:  1.5min\n",
      "[Parallel(n_jobs=4)]: Done  60 out of  60 | elapsed:  2.0min finished\n"
     ]
    },
    {
     "name": "stdout",
     "output_type": "stream",
     "text": [
      "Best parameters set found on development set:\n",
      "\n",
      "{'svc__C': 0.1, 'svc__coef0': 0.001, 'svc__gamma': 0.01}\n",
      "Best CV score:  0.8075\n",
      "\n",
      "Grid scores on development set:\n",
      "\n",
      "0.790 (+/-0.041) for {'svc__C': 0.1, 'svc__coef0': 0.0001, 'svc__gamma': 0.003}\n",
      "0.799 (+/-0.050) for {'svc__C': 0.1, 'svc__coef0': 0.0001, 'svc__gamma': 0.01}\n",
      "0.790 (+/-0.039) for {'svc__C': 0.1, 'svc__coef0': 0.0003, 'svc__gamma': 0.003}\n",
      "0.801 (+/-0.047) for {'svc__C': 0.1, 'svc__coef0': 0.0003, 'svc__gamma': 0.01}\n",
      "0.790 (+/-0.041) for {'svc__C': 0.1, 'svc__coef0': 0.001, 'svc__gamma': 0.003}\n",
      "0.807 (+/-0.049) for {'svc__C': 0.1, 'svc__coef0': 0.001, 'svc__gamma': 0.01}\n",
      "0.804 (+/-0.040) for {'svc__C': 0.3, 'svc__coef0': 0.0001, 'svc__gamma': 0.003}\n",
      "0.786 (+/-0.049) for {'svc__C': 0.3, 'svc__coef0': 0.0001, 'svc__gamma': 0.01}\n",
      "0.801 (+/-0.036) for {'svc__C': 0.3, 'svc__coef0': 0.0003, 'svc__gamma': 0.003}\n",
      "0.791 (+/-0.050) for {'svc__C': 0.3, 'svc__coef0': 0.0003, 'svc__gamma': 0.01}\n",
      "0.804 (+/-0.044) for {'svc__C': 0.3, 'svc__coef0': 0.001, 'svc__gamma': 0.003}\n",
      "0.788 (+/-0.048) for {'svc__C': 0.3, 'svc__coef0': 0.001, 'svc__gamma': 0.01}\n"
     ]
    }
   ],
   "source": [
    "pipe = make_pipeline(preprocessing.StandardScaler(), SVC(kernel=\"sigmoid\"))\n",
    "grid = GridSearchCV(pipe, return_train_score=True, verbose=1,\n",
    "                    cv=5, \n",
    "                    param_grid={\"svc__C\":[0.1, 0.3],\n",
    "                                \"svc__gamma\":[0.003, 0.01],\n",
    "                                \"svc__coef0\":[0.0001, 0.0003, 0.001]}, \n",
    "                    n_jobs=4)\n",
    "# As a test just fit on 10% to check parameter values to use \n",
    "grid.fit(X_train10, y_train10)\n",
    "grid_summary(grid)"
   ]
  },
  {
   "cell_type": "code",
   "execution_count": 87,
   "metadata": {},
   "outputs": [
    {
     "name": "stdout",
     "output_type": "stream",
     "text": [
      "Fitting 4 folds for each of 12 candidates, totalling 48 fits\n"
     ]
    },
    {
     "name": "stderr",
     "output_type": "stream",
     "text": [
      "[Parallel(n_jobs=4)]: Done  48 out of  48 | elapsed: 99.5min finished\n"
     ]
    },
    {
     "name": "stdout",
     "output_type": "stream",
     "text": [
      "Best parameters set found on development set:\n",
      "\n",
      "{'svc__C': 0.1, 'svc__coef0': 0.0001, 'svc__gamma': 0.003}\n",
      "Best CV score:  0.84615\n",
      "\n",
      "Grid scores on development set:\n",
      "\n",
      "0.846 (+/-0.006) for {'svc__C': 0.1, 'svc__coef0': 0.0001, 'svc__gamma': 0.003}\n",
      "0.827 (+/-0.010) for {'svc__C': 0.1, 'svc__coef0': 0.0001, 'svc__gamma': 0.01}\n",
      "0.846 (+/-0.004) for {'svc__C': 0.1, 'svc__coef0': 0.0003, 'svc__gamma': 0.003}\n",
      "0.829 (+/-0.007) for {'svc__C': 0.1, 'svc__coef0': 0.0003, 'svc__gamma': 0.01}\n",
      "0.846 (+/-0.004) for {'svc__C': 0.1, 'svc__coef0': 0.001, 'svc__gamma': 0.003}\n",
      "0.827 (+/-0.011) for {'svc__C': 0.1, 'svc__coef0': 0.001, 'svc__gamma': 0.01}\n",
      "0.841 (+/-0.010) for {'svc__C': 0.3, 'svc__coef0': 0.0001, 'svc__gamma': 0.003}\n",
      "0.809 (+/-0.017) for {'svc__C': 0.3, 'svc__coef0': 0.0001, 'svc__gamma': 0.01}\n",
      "0.840 (+/-0.009) for {'svc__C': 0.3, 'svc__coef0': 0.0003, 'svc__gamma': 0.003}\n",
      "0.809 (+/-0.013) for {'svc__C': 0.3, 'svc__coef0': 0.0003, 'svc__gamma': 0.01}\n",
      "0.842 (+/-0.008) for {'svc__C': 0.3, 'svc__coef0': 0.001, 'svc__gamma': 0.003}\n",
      "0.808 (+/-0.014) for {'svc__C': 0.3, 'svc__coef0': 0.001, 'svc__gamma': 0.01}\n"
     ]
    }
   ],
   "source": [
    "pipe = make_pipeline(preprocessing.StandardScaler(), SVC(kernel=\"sigmoid\"))\n",
    "grid = GridSearchCV(pipe, return_train_score=True, verbose=1,\n",
    "                    cv=4, \n",
    "                    param_grid={\"svc__C\":[0.1, 0.3],\n",
    "                                \"svc__gamma\":[0.003, 0.01],\n",
    "                                \"svc__coef0\":[0.0001, 0.0003, 0.001]}, \n",
    "                    n_jobs=4)\n",
    "# As a test just fit on 10% to check parameter values to use \n",
    "grid.fit(X_train, y_train)\n",
    "grid_summary(grid)"
   ]
  },
  {
   "cell_type": "code",
   "execution_count": 88,
   "metadata": {},
   "outputs": [
    {
     "name": "stdout",
     "output_type": "stream",
     "text": [
      "0.82985\n"
     ]
    }
   ],
   "source": [
    "# Check the training score in comparison with the CV score above\n",
    "print(grid.score(X_train, y_train))"
   ]
  },
  {
   "cell_type": "code",
   "execution_count": 89,
   "metadata": {},
   "outputs": [],
   "source": [
    "pred = grid.predict(X_test)"
   ]
  },
  {
   "cell_type": "code",
   "execution_count": 90,
   "metadata": {},
   "outputs": [],
   "source": [
    "with open(\"out5.txt\", \"w\") as f:\n",
    "    f.write(\"Id,Prediction\\n\")\n",
    "    for i in range(len(pred)):\n",
    "        f.write(\"{0},{1}\\n\".format(i+1, int(pred[i])))"
   ]
  },
  {
   "cell_type": "code",
   "execution_count": null,
   "metadata": {},
   "outputs": [],
   "source": []
  }
 ],
 "metadata": {
  "kernelspec": {
   "display_name": "Python 3",
   "language": "python",
   "name": "python3"
  },
  "language_info": {
   "codemirror_mode": {
    "name": "ipython",
    "version": 3
   },
   "file_extension": ".py",
   "mimetype": "text/x-python",
   "name": "python",
   "nbconvert_exporter": "python",
   "pygments_lexer": "ipython3",
   "version": "3.6.2"
  }
 },
 "nbformat": 4,
 "nbformat_minor": 2
}
