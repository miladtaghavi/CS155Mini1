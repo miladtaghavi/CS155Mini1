{
 "cells": [
  {
   "cell_type": "code",
   "execution_count": 93,
   "metadata": {},
   "outputs": [],
   "source": [
    "import numpy as np\n",
    "import matplotlib.pyplot as plt\n",
    "\n",
    "import sklearn\n",
    "from sklearn import preprocessing\n",
    "from sklearn.svm import SVC\n",
    "from sklearn.pipeline import make_pipeline\n",
    "from sklearn.model_selection import cross_val_score, GridSearchCV"
   ]
  },
  {
   "cell_type": "code",
   "execution_count": 55,
   "metadata": {},
   "outputs": [],
   "source": [
    "def read_data(filename, has_y):\n",
    "    with open(filename, \"r\") as f:\n",
    "        data = f.readlines()\n",
    "\n",
    "    # Slice off first line which is the list of words\n",
    "    data = data[1:]\n",
    "    # Split the string on each line into ints and convert to numpy array\n",
    "    data = np.array([[int(x) for x in line.split(\" \")] for line in data], dtype=\"float64\")\n",
    "    \n",
    "    if has_y:\n",
    "        # y is the first column while X is everything else\n",
    "        X = data[:, 1:]\n",
    "        y = data[:, 0]\n",
    "\n",
    "        return X, y\n",
    "    else:\n",
    "        return data\n",
    "\n",
    "X_train, y_train = read_data(\"training_data.txt\", has_y=True)\n",
    "X_test = read_data(\"test_data.txt\", has_y=False)\n",
    "\n",
    "# Shuffle the order of the training data just in case\n",
    "X_train, y_train = sklearn.utils.shuffle(X_train, y_train)\n",
    "# Make a smaller dataset with only 10% the size\n",
    "X_train10 = X_train[:len(X_train)//10]\n",
    "y_train10 = y_train[:len(y_train)//10]"
   ]
  },
  {
   "cell_type": "code",
   "execution_count": 47,
   "metadata": {
    "scrolled": true
   },
   "outputs": [
    {
     "data": {
      "text/plain": [
       "SVC(C=1.0, cache_size=200, class_weight=None, coef0=0.0,\n",
       "  decision_function_shape='ovr', degree=3, gamma='auto', kernel='rbf',\n",
       "  max_iter=-1, probability=False, random_state=None, shrinking=True,\n",
       "  tol=0.001, verbose=False)"
      ]
     },
     "execution_count": 47,
     "metadata": {},
     "output_type": "execute_result"
    }
   ],
   "source": [
    "# Preliminary trial on full dataset\n",
    "# svc = SVC()\n",
    "# svc.fit(X_train, y_train)\n",
    "# svc.score(X_train, y_train)\n",
    "# >>> 0.84655\n",
    "# svc.support_.shape\n",
    "# >>> (1285,)"
   ]
  },
  {
   "cell_type": "code",
   "execution_count": 59,
   "metadata": {},
   "outputs": [
    {
     "name": "stdout",
     "output_type": "stream",
     "text": [
      "0.786\n"
     ]
    }
   ],
   "source": [
    "# Now I'll experimentation with the workflow\n",
    "# Vary data normalisation, SVM parameters, regularisation\n",
    "# Check with cross-validation\n",
    "\n",
    "svc = SVC()\n",
    "svc.fit(X_train10, y_train10)\n",
    "print(svc.score(X_train10, y_train10))"
   ]
  },
  {
   "cell_type": "code",
   "execution_count": 78,
   "metadata": {},
   "outputs": [
    {
     "name": "stderr",
     "output_type": "stream",
     "text": [
      "c:\\users\\qi\\appdata\\local\\programs\\python\\python36\\lib\\site-packages\\sklearn\\utils\\validation.py:475: DataConversionWarning: Data with input dtype int32 was converted to float64 by StandardScaler.\n",
      "  warnings.warn(msg, DataConversionWarning)\n"
     ]
    },
    {
     "name": "stdout",
     "output_type": "stream",
     "text": [
      "0.98\n"
     ]
    }
   ],
   "source": [
    "scaler10 = preprocessing.StandardScaler().fit(X_train10)\n",
    "X_train10_scaled = scaler10.transform(X_train10)\n",
    "\n",
    "svc.fit(X_train10_scaled, y_train10)\n",
    "print(svc.score(X_train10_scaled, y_train10))"
   ]
  },
  {
   "cell_type": "code",
   "execution_count": 135,
   "metadata": {},
   "outputs": [],
   "source": [
    "pipe = make_pipeline(preprocessing.StandardScaler(), SVC())\n",
    "grid = GridSearchCV(pipe, cv=3, param_grid={\"svc__C\":[2.0, 4.0, 6.0], \"svc__gamma\":[0.0002, 0.0004, 0.0006]}, n_jobs=4, return_train_score=True, verbose=1)"
   ]
  },
  {
   "cell_type": "code",
   "execution_count": 136,
   "metadata": {},
   "outputs": [
    {
     "data": {
      "text/plain": [
       "GridSearchCV(cv=3, error_score='raise',\n",
       "       estimator=Pipeline(memory=None,\n",
       "     steps=[('standardscaler', StandardScaler(copy=True, with_mean=True, with_std=True)), ('svc', SVC(C=1.0, cache_size=200, class_weight=None, coef0=0.0,\n",
       "  decision_function_shape='ovr', degree=3, gamma='auto', kernel='rbf',\n",
       "  max_iter=-1, probability=False, random_state=None, shrinking=True,\n",
       "  tol=0.001, verbose=False))]),\n",
       "       fit_params=None, iid=True, n_jobs=4,\n",
       "       param_grid={'svc__C': [2.0, 4.0, 6.0], 'svc__gamma': [0.0002, 0.0004, 0.0006]},\n",
       "       pre_dispatch='2*n_jobs', refit=True, return_train_score=True,\n",
       "       scoring=None, verbose=1)"
      ]
     },
     "execution_count": 136,
     "metadata": {},
     "output_type": "execute_result"
    }
   ],
   "source": [
    "grid"
   ]
  },
  {
   "cell_type": "code",
   "execution_count": 137,
   "metadata": {},
   "outputs": [
    {
     "name": "stdout",
     "output_type": "stream",
     "text": [
      "Fitting 3 folds for each of 9 candidates, totalling 27 fits\n"
     ]
    },
    {
     "name": "stderr",
     "output_type": "stream",
     "text": [
      "[Parallel(n_jobs=4)]: Done  27 out of  27 | elapsed: 62.5min finished\n",
      "c:\\users\\qi\\appdata\\local\\programs\\python\\python36\\lib\\site-packages\\sklearn\\utils\\validation.py:475: DataConversionWarning: Data with input dtype int32 was converted to float64 by StandardScaler.\n",
      "  warnings.warn(msg, DataConversionWarning)\n"
     ]
    },
    {
     "data": {
      "text/plain": [
       "GridSearchCV(cv=3, error_score='raise',\n",
       "       estimator=Pipeline(memory=None,\n",
       "     steps=[('standardscaler', StandardScaler(copy=True, with_mean=True, with_std=True)), ('svc', SVC(C=1.0, cache_size=200, class_weight=None, coef0=0.0,\n",
       "  decision_function_shape='ovr', degree=3, gamma='auto', kernel='rbf',\n",
       "  max_iter=-1, probability=False, random_state=None, shrinking=True,\n",
       "  tol=0.001, verbose=False))]),\n",
       "       fit_params=None, iid=True, n_jobs=4,\n",
       "       param_grid={'svc__C': [2.0, 4.0, 6.0], 'svc__gamma': [0.0002, 0.0004, 0.0006]},\n",
       "       pre_dispatch='2*n_jobs', refit=True, return_train_score=True,\n",
       "       scoring=None, verbose=1)"
      ]
     },
     "execution_count": 137,
     "metadata": {},
     "output_type": "execute_result"
    }
   ],
   "source": [
    "grid.fit(X_train, y_train)"
   ]
  },
  {
   "cell_type": "code",
   "execution_count": 138,
   "metadata": {},
   "outputs": [
    {
     "name": "stdout",
     "output_type": "stream",
     "text": [
      "Best parameters set found on development set:\n",
      "\n",
      "{'svc__C': 4.0, 'svc__gamma': 0.0002}\n",
      "Best CV score:  0.85125\n",
      "\n",
      "Grid scores on development set:\n",
      "\n",
      "0.850 (+/-0.002) for {'svc__C': 2.0, 'svc__gamma': 0.0002}\n",
      "0.851 (+/-0.003) for {'svc__C': 2.0, 'svc__gamma': 0.0004}\n",
      "0.851 (+/-0.006) for {'svc__C': 2.0, 'svc__gamma': 0.0006}\n",
      "0.851 (+/-0.006) for {'svc__C': 4.0, 'svc__gamma': 0.0002}\n",
      "0.850 (+/-0.006) for {'svc__C': 4.0, 'svc__gamma': 0.0004}\n",
      "0.848 (+/-0.007) for {'svc__C': 4.0, 'svc__gamma': 0.0006}\n",
      "0.850 (+/-0.009) for {'svc__C': 6.0, 'svc__gamma': 0.0002}\n",
      "0.849 (+/-0.007) for {'svc__C': 6.0, 'svc__gamma': 0.0004}\n",
      "0.845 (+/-0.007) for {'svc__C': 6.0, 'svc__gamma': 0.0006}\n"
     ]
    }
   ],
   "source": [
    "def grid_summary(grid):\n",
    "    print(\"Best parameters set found on development set:\\n\")\n",
    "    print(grid.best_params_)\n",
    "    print(\"Best CV score: \", grid.best_score_)\n",
    "    print()\n",
    "    print(\"Grid scores on development set:\\n\")\n",
    "\n",
    "    means = grid.cv_results_['mean_test_score']\n",
    "    stds = grid.cv_results_['std_test_score']\n",
    "    for mean, std, params in zip(means, stds, grid.cv_results_['params']):\n",
    "        print(\"%0.3f (+/-%0.03f) for %r\"\n",
    "              % (mean, std * 2, params))\n",
    "        \n",
    "grid_summary(grid)"
   ]
  },
  {
   "cell_type": "code",
   "execution_count": 139,
   "metadata": {},
   "outputs": [
    {
     "name": "stderr",
     "output_type": "stream",
     "text": [
      "c:\\users\\qi\\appdata\\local\\programs\\python\\python36\\lib\\site-packages\\sklearn\\utils\\validation.py:475: DataConversionWarning: Data with input dtype int32 was converted to float64 by StandardScaler.\n",
      "  warnings.warn(msg, DataConversionWarning)\n"
     ]
    },
    {
     "data": {
      "text/plain": [
       "0.90955"
      ]
     },
     "execution_count": 139,
     "metadata": {},
     "output_type": "execute_result"
    }
   ],
   "source": [
    "grid.score(X_train, y_train)"
   ]
  },
  {
   "cell_type": "code",
   "execution_count": 140,
   "metadata": {},
   "outputs": [
    {
     "data": {
      "text/plain": [
       "{'mean_fit_time': array([219.29951612, 215.95452372, 274.43245848, 189.61298402,\n",
       "        220.95706391, 431.43186021, 186.47770079, 282.20888503,\n",
       "        433.93683712]),\n",
       " 'mean_score_time': array([90.66649564, 87.71958105, 92.1079669 , 78.15310884, 82.16637222,\n",
       "        90.33819858, 76.05771438, 80.8949999 , 67.11564112]),\n",
       " 'mean_test_score': array([0.8503 , 0.85095, 0.85055, 0.85125, 0.8498 , 0.84785, 0.84965,\n",
       "        0.84855, 0.84505]),\n",
       " 'mean_train_score': array([0.899025  , 0.92977502, 0.950275  , 0.91465001, 0.95005   ,\n",
       "        0.97017499, 0.92455004, 0.96192497, 0.97932499]),\n",
       " 'param_svc__C': masked_array(data=[2.0, 2.0, 2.0, 4.0, 4.0, 4.0, 6.0, 6.0, 6.0],\n",
       "              mask=[False, False, False, False, False, False, False, False,\n",
       "                    False],\n",
       "        fill_value='?',\n",
       "             dtype=object),\n",
       " 'param_svc__gamma': masked_array(data=[0.0002, 0.0004, 0.0006, 0.0002, 0.0004, 0.0006, 0.0002,\n",
       "                    0.0004, 0.0006],\n",
       "              mask=[False, False, False, False, False, False, False, False,\n",
       "                    False],\n",
       "        fill_value='?',\n",
       "             dtype=object),\n",
       " 'params': [{'svc__C': 2.0, 'svc__gamma': 0.0002},\n",
       "  {'svc__C': 2.0, 'svc__gamma': 0.0004},\n",
       "  {'svc__C': 2.0, 'svc__gamma': 0.0006},\n",
       "  {'svc__C': 4.0, 'svc__gamma': 0.0002},\n",
       "  {'svc__C': 4.0, 'svc__gamma': 0.0004},\n",
       "  {'svc__C': 4.0, 'svc__gamma': 0.0006},\n",
       "  {'svc__C': 6.0, 'svc__gamma': 0.0002},\n",
       "  {'svc__C': 6.0, 'svc__gamma': 0.0004},\n",
       "  {'svc__C': 6.0, 'svc__gamma': 0.0006}],\n",
       " 'rank_test_score': array([4, 2, 3, 1, 5, 8, 6, 7, 9]),\n",
       " 'split0_test_score': array([0.84955752, 0.84910754, 0.84895755, 0.84730763, 0.84580771,\n",
       "        0.84430778, 0.84385781, 0.84535773, 0.84235788]),\n",
       " 'split0_train_score': array([0.90047251, 0.92942324, 0.94997375, 0.91569789, 0.94997375,\n",
       "        0.96849921, 0.92522313, 0.96069902, 0.97764944]),\n",
       " 'split1_test_score': array([0.8500075 , 0.85255737, 0.85480726, 0.85330733, 0.85360732,\n",
       "        0.85225739, 0.85420729, 0.85360732, 0.8500075 ]),\n",
       " 'split1_train_score': array([0.89747244, 0.93077327, 0.95072377, 0.91389785, 0.95027376,\n",
       "        0.97157429, 0.92529813, 0.96212405, 0.98072452]),\n",
       " 'split2_test_score': array([0.85133513, 0.85118512, 0.84788479, 0.85313531, 0.849985  ,\n",
       "        0.8469847 , 0.85088509, 0.84668467, 0.84278428]),\n",
       " 'split2_train_score': array([0.89913004, 0.92912854, 0.95012749, 0.91435428, 0.9499025 ,\n",
       "        0.97045148, 0.92312884, 0.96295185, 0.97960102]),\n",
       " 'std_fit_time': array([ 0.76325732,  6.0728536 ,  3.40091495,  1.10916273,  0.47044387,\n",
       "         8.21636818,  3.00040505,  8.89766049, 29.68454364]),\n",
       " 'std_score_time': array([0.23964672, 1.99447443, 0.5066412 , 0.66050148, 0.810105  ,\n",
       "        0.58376931, 0.66120615, 0.97244371, 3.96379415]),\n",
       " 'std_test_score': array([0.0007546 , 0.0014182 , 0.00304214, 0.00278866, 0.00318694,\n",
       "        0.00330266, 0.00431456, 0.00361699, 0.00350993]),\n",
       " 'std_train_score': array([0.00122703, 0.00071605, 0.00032347, 0.00076404, 0.00016087,\n",
       "        0.00127053, 0.0010054 , 0.00093043, 0.00127048])}"
      ]
     },
     "execution_count": 140,
     "metadata": {},
     "output_type": "execute_result"
    }
   ],
   "source": [
    "grid.cv_results_"
   ]
  },
  {
   "cell_type": "code",
   "execution_count": 141,
   "metadata": {},
   "outputs": [
    {
     "name": "stderr",
     "output_type": "stream",
     "text": [
      "c:\\users\\qi\\appdata\\local\\programs\\python\\python36\\lib\\site-packages\\sklearn\\utils\\validation.py:475: DataConversionWarning: Data with input dtype int32 was converted to float64 by StandardScaler.\n",
      "  warnings.warn(msg, DataConversionWarning)\n"
     ]
    }
   ],
   "source": [
    "pred = grid.predict(X_test)"
   ]
  },
  {
   "cell_type": "code",
   "execution_count": 142,
   "metadata": {},
   "outputs": [],
   "source": [
    "with open(\"out2.txt\", \"w\") as f:\n",
    "    f.write(\"Id,Prediction\\n\")\n",
    "    for i in range(len(pred)):\n",
    "        f.write(\"{0},{1}\\n\".format(i+1, pred[i]))"
   ]
  }
 ],
 "metadata": {
  "kernelspec": {
   "display_name": "Python 3",
   "language": "python",
   "name": "python3"
  },
  "language_info": {
   "codemirror_mode": {
    "name": "ipython",
    "version": 3
   },
   "file_extension": ".py",
   "mimetype": "text/x-python",
   "name": "python",
   "nbconvert_exporter": "python",
   "pygments_lexer": "ipython3",
   "version": "3.6.2"
  }
 },
 "nbformat": 4,
 "nbformat_minor": 2
}
