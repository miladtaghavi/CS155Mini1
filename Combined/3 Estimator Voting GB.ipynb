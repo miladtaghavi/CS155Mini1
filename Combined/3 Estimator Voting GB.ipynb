{
 "cells": [
  {
   "cell_type": "code",
   "execution_count": 1,
   "metadata": {},
   "outputs": [
    {
     "name": "stderr",
     "output_type": "stream",
     "text": [
      "Using TensorFlow backend.\n"
     ]
    }
   ],
   "source": [
    "# Import libraries\n",
    "import random\n",
    "import numpy as np\n",
    "import matplotlib.pyplot as plt\n",
    "\n",
    "import sklearn\n",
    "import sklearn.model_selection\n",
    "from sklearn.svm import SVC\n",
    "from sklearn.pipeline import make_pipeline\n",
    "from sklearn.preprocessing import StandardScaler\n",
    "from sklearn.model_selection import cross_val_score, GridSearchCV, StratifiedKFold\n",
    "from sklearn.metrics import accuracy_score\n",
    "from sklearn.ensemble import AdaBoostClassifier, GradientBoostingClassifier\n",
    "from sklearn.decomposition import PCA\n",
    "from sklearn.tree import DecisionTreeClassifier\n",
    "\n",
    "import tensorflow as tf \n",
    "import keras\n",
    "import keras.regularizers\n",
    "from keras.models import Sequential\n",
    "from keras.layers.core import Dense, Activation, Flatten, Dropout\n",
    "from keras.layers import BatchNormalization, GaussianNoise, GaussianDropout, LeakyReLU\n",
    "from keras.wrappers.scikit_learn import KerasClassifier"
   ]
  },
  {
   "cell_type": "markdown",
   "metadata": {},
   "source": [
    "## Loading Dataset"
   ]
  },
  {
   "cell_type": "code",
   "execution_count": 3,
   "metadata": {},
   "outputs": [],
   "source": [
    "# Load final validation data set\n",
    "FV_data = np.loadtxt('../data/test_data.txt',delimiter=' ',skiprows=1)\n",
    "# Load input training data set\n",
    "train_data = np.loadtxt('../data/training_data.txt',delimiter=' ',skiprows=1)\n",
    "\n",
    "# Split y_train and x_train from training set\n",
    "X_Tall = train_data[:,1:]\n",
    "y_Tall = train_data[:,0]"
   ]
  },
  {
   "cell_type": "code",
   "execution_count": 34,
   "metadata": {},
   "outputs": [],
   "source": [
    "kf = StratifiedKFold(n_splits=5)\n",
    "inds = list(kf.split(X_Tall, y_Tall))\n",
    "\n",
    "train_idx, val_idx = inds[3]\n",
    "\n",
    "X_train, y_train = X_Tall[train_idx], y_Tall[train_idx] \n",
    "X_val, y_val = X_Tall[val_idx], y_Tall[val_idx]"
   ]
  },
  {
   "cell_type": "code",
   "execution_count": 35,
   "metadata": {},
   "outputs": [],
   "source": [
    "# Function to generate DNN of given depth and width\n",
    "def create_model(layers,Pdrop):\n",
    "    model = Sequential()\n",
    "    model.add(Dense(layers[0],input_shape=(1000,)))\n",
    "    model.add(BatchNormalization())\n",
    "    model.add(LeakyReLU(alpha=0.3))\n",
    "    for i in layers[1:]:\n",
    "        model.add(Dense(i))\n",
    "        model.add(BatchNormalization())\n",
    "        model.add(LeakyReLU(alpha=0.3))\n",
    "        model.add(Dropout(Pdrop))\n",
    "    \n",
    "    # predicting probabilities of each of the 2 classes\n",
    "    model.add(Dense(1))\n",
    "    model.add(Activation('sigmoid'))\n",
    "    \n",
    "    model.compile(loss='binary_crossentropy',optimizer='RMSprop', metrics=['accuracy'])\n",
    "    return model\n",
    "\n",
    "neural = KerasClassifier(build_fn=create_model, layers=[500,250,125,75,25], Pdrop=0.4)"
   ]
  },
  {
   "cell_type": "code",
   "execution_count": 36,
   "metadata": {
    "scrolled": true
   },
   "outputs": [
    {
     "name": "stdout",
     "output_type": "stream",
     "text": [
      "Train on 16001 samples, validate on 3999 samples\n",
      "Epoch 1/3\n",
      "16001/16001 [==============================] - 5s 299us/step - loss: 0.4909 - acc: 0.7656 - val_loss: 0.4175 - val_acc: 0.8360\n",
      "Epoch 2/3\n",
      "16001/16001 [==============================] - 2s 137us/step - loss: 0.3478 - acc: 0.8536 - val_loss: 0.4394 - val_acc: 0.8442\n",
      "Epoch 3/3\n",
      "16001/16001 [==============================] - 2s 121us/step - loss: 0.3120 - acc: 0.8708 - val_loss: 0.4604 - val_acc: 0.8437\n"
     ]
    },
    {
     "data": {
      "text/plain": [
       "<keras.callbacks.History at 0x192420d9eb8>"
      ]
     },
     "execution_count": 36,
     "metadata": {},
     "output_type": "execute_result"
    }
   ],
   "source": [
    "neural.fit(X_train, y_train, batch_size=2**8, epochs=3, validation_data=(X_val, y_val))"
   ]
  },
  {
   "cell_type": "code",
   "execution_count": 37,
   "metadata": {},
   "outputs": [
    {
     "name": "stdout",
     "output_type": "stream",
     "text": [
      "0.9153177926379601\n",
      "0.8417104276069017\n"
     ]
    }
   ],
   "source": [
    "svm = make_pipeline(StandardScaler(), SVC(C=4.0, gamma=0.0002))\n",
    "svm.fit(X_train, y_train)\n",
    "print(svm.score(X_train, y_train))\n",
    "print(svm.score(X_val, y_val))"
   ]
  },
  {
   "cell_type": "code",
   "execution_count": 38,
   "metadata": {},
   "outputs": [
    {
     "name": "stdout",
     "output_type": "stream",
     "text": [
      "0.9951878007624524\n",
      "0.8399599899974993\n"
     ]
    }
   ],
   "source": [
    "GB = GradientBoostingClassifier(loss='deviance', learning_rate=0.4, n_estimators=500, max_depth=5,\n",
    "                                   min_samples_split=2)\n",
    "\n",
    "GB.fit(X_train, y_train)\n",
    "print(GB.score(X_train, y_train))\n",
    "print(GB.score(X_val, y_val))"
   ]
  },
  {
   "cell_type": "code",
   "execution_count": 39,
   "metadata": {},
   "outputs": [],
   "source": [
    "pred_nn = neural.predict(X_val)\n",
    "pred_svm = svm.predict(X_val)\n",
    "pred_GB = GB.predict(X_val)"
   ]
  },
  {
   "cell_type": "code",
   "execution_count": 40,
   "metadata": {},
   "outputs": [
    {
     "data": {
      "text/plain": [
       "0.8474618654663666"
      ]
     },
     "execution_count": 40,
     "metadata": {},
     "output_type": "execute_result"
    }
   ],
   "source": [
    "pred_comb = np.zeros(len(y_val))\n",
    "for i in range(len(y_val)):\n",
    "    votes = [pred_nn[i][0], pred_svm[i], pred_GB[i]]\n",
    "    ones= votes.count(1)\n",
    "    if ones >= 2:\n",
    "        pred_comb[i] = 1\n",
    "    else:\n",
    "        pred_comb[i] = 0\n",
    "        \n",
    "accuracy_score(pred_comb, y_val)"
   ]
  },
  {
   "cell_type": "code",
   "execution_count": null,
   "metadata": {},
   "outputs": [],
   "source": [
    "# New one using 3 epochs and GB\n",
    "# Val for first  fold: 0.8592851787053236\n",
    "# Val for second fold: 0.8507873031742065\n",
    "# Val for third  fold: 0.84525\n",
    "# Val for fourth fold: 0.8474618654663666\n",
    "# Val for fifth fold: 0.8559639909977494\n",
    "# Average: 0.8517\n",
    "\n",
    "# Old one using 6 epochs and Ada\n",
    "# Val for first  fold: 0.8557860534866284\n",
    "# Val for second fold: 0.8512871782054486\n",
    "# Val for third  fold: 0.843\n",
    "# Val for fourth fold: 0.8472118029507377\n",
    "# Val for fifth  fold: 0.8534633658414603\n",
    "# Average: 0.850"
   ]
  },
  {
   "cell_type": "code",
   "execution_count": 41,
   "metadata": {},
   "outputs": [
    {
     "name": "stdout",
     "output_type": "stream",
     "text": [
      "Epoch 1/3\n",
      "20000/20000 [==============================] - 5s 242us/step - loss: 0.4749 - acc: 0.7741\n",
      "Epoch 2/3\n",
      "20000/20000 [==============================] - 2s 114us/step - loss: 0.3433 - acc: 0.8573\n",
      "Epoch 3/3\n",
      "20000/20000 [==============================] - 2s 111us/step - loss: 0.3140 - acc: 0.8701\n"
     ]
    },
    {
     "data": {
      "text/plain": [
       "<keras.callbacks.History at 0x192bd970c18>"
      ]
     },
     "execution_count": 41,
     "metadata": {},
     "output_type": "execute_result"
    }
   ],
   "source": [
    "neural.fit(X_Tall, y_Tall, batch_size=2**8, epochs=3)"
   ]
  },
  {
   "cell_type": "code",
   "execution_count": 42,
   "metadata": {},
   "outputs": [
    {
     "name": "stdout",
     "output_type": "stream",
     "text": [
      "0.9096\n"
     ]
    }
   ],
   "source": [
    "svm = make_pipeline(StandardScaler(), SVC(C=4.0, gamma=0.0002))\n",
    "svm.fit(X_Tall, y_Tall)\n",
    "print(svm.score(X_Tall, y_Tall))"
   ]
  },
  {
   "cell_type": "code",
   "execution_count": 43,
   "metadata": {},
   "outputs": [
    {
     "name": "stdout",
     "output_type": "stream",
     "text": [
      "0.9906\n"
     ]
    }
   ],
   "source": [
    "GB = GradientBoostingClassifier(loss='deviance', learning_rate=0.4, n_estimators=500, max_depth=5,\n",
    "                                   min_samples_split=2)\n",
    "\n",
    "GB.fit(X_Tall, y_Tall)\n",
    "print(GB.score(X_Tall, y_Tall))"
   ]
  },
  {
   "cell_type": "code",
   "execution_count": 44,
   "metadata": {},
   "outputs": [],
   "source": [
    "pred_nn = neural.predict(FV_data)\n",
    "pred_svm = svm.predict(FV_data)\n",
    "pred_GB = GB.predict(FV_data)"
   ]
  },
  {
   "cell_type": "code",
   "execution_count": 46,
   "metadata": {},
   "outputs": [],
   "source": [
    "pred_comb = np.zeros(len(FV_data))\n",
    "counts = np.zeros(len(FV_data))\n",
    "\n",
    "for i in range(len(FV_data)):\n",
    "    votes = [pred_nn[i][0], pred_svm[i], pred_GB[i]]\n",
    "    ones= votes.count(1)\n",
    "    counts[i] = ones\n",
    "    \n",
    "    if ones >= 2:\n",
    "        pred_comb[i] = 1\n",
    "    else:\n",
    "        pred_comb[i] = 0"
   ]
  },
  {
   "cell_type": "code",
   "execution_count": 47,
   "metadata": {},
   "outputs": [],
   "source": [
    "with open(\"outcomb2.txt\", \"w\") as f:\n",
    "    f.write(\"Id,Prediction\\n\")\n",
    "    for i in range(len(pred_comb)):\n",
    "        f.write(\"{0},{1}\\n\".format(i+1, int(pred_comb[i])))"
   ]
  },
  {
   "cell_type": "code",
   "execution_count": 48,
   "metadata": {},
   "outputs": [
    {
     "data": {
      "text/plain": [
       "(array([4269.,    0.,    0.,  583.,    0.,    0.,  610.,    0.,    0.,\n",
       "        4538.]),\n",
       " array([0. , 0.3, 0.6, 0.9, 1.2, 1.5, 1.8, 2.1, 2.4, 2.7, 3. ]),\n",
       " <a list of 10 Patch objects>)"
      ]
     },
     "execution_count": 48,
     "metadata": {},
     "output_type": "execute_result"
    },
    {
     "data": {
      "image/png": "[encoded data removed]",
      "text/plain": [
       "<matplotlib.figure.Figure at 0x192d3120dd8>"
      ]
     },
     "metadata": {},
     "output_type": "display_data"
    }
   ],
   "source": [
    "plt.hist(counts)"
   ]
  },
  {
   "cell_type": "code",
   "execution_count": null,
   "metadata": {},
   "outputs": [],
   "source": []
  }
 ],
 "metadata": {
  "kernelspec": {
   "display_name": "Python 3",
   "language": "python",
   "name": "python3"
  },
  "language_info": {
   "codemirror_mode": {
    "name": "ipython",
    "version": 3
   },
   "file_extension": ".py",
   "mimetype": "text/x-python",
   "name": "python",
   "nbconvert_exporter": "python",
   "pygments_lexer": "ipython3",
   "version": "3.6.2"
  }
 },
 "nbformat": 4,
 "nbformat_minor": 2
}
