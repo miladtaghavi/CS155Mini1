{
 "cells": [
  {
   "cell_type": "markdown",
   "metadata": {},
   "source": [
    "# CS155 Miniproject 1\n",
    "\n",
    "zchen@caltech.edu"
   ]
  },
  {
   "cell_type": "markdown",
   "metadata": {},
   "source": [
    "Sentiment Analysis via Neural Networks"
   ]
  },
  {
   "cell_type": "code",
   "execution_count": 26,
   "metadata": {},
   "outputs": [],
   "source": [
    "# Import libraries\n",
    "import numpy as np\n",
    "import matplotlib.pyplot as plt\n",
    "\n",
    "import sklearn\n",
    "import sklearn.model_selection\n",
    "\n",
    "import tensorflow as tf \n",
    "import keras\n",
    "from keras.models import Sequential\n",
    "from keras.layers.core import Dense, Activation, Flatten, Dropout\n",
    "from keras.layers import BatchNormalization, LeakyReLU"
   ]
  },
  {
   "cell_type": "markdown",
   "metadata": {},
   "source": [
    "## Loading Dataset"
   ]
  },
  {
   "cell_type": "code",
   "execution_count": 11,
   "metadata": {},
   "outputs": [],
   "source": [
    "# Load final validation data set\n",
    "FV_data = np.loadtxt('../data/test_data.txt',delimiter=' ',skiprows=1)\n",
    "# Load input training data set\n",
    "train_data = np.loadtxt('../data/training_data.txt',delimiter=' ',skiprows=1)\n",
    "\n",
    "# Splot y_train and x_train from training set\n",
    "y_tall = train_data[:,0]\n",
    "x_tall = train_data[:,1:]"
   ]
  },
  {
   "cell_type": "code",
   "execution_count": 12,
   "metadata": {},
   "outputs": [],
   "source": [
    "# One hot encode categories\n",
    "y_tall = keras.utils.np_utils.to_categorical(y_tall)\n",
    "\n",
    "# Split the training data k-fold number of ways for k-fold validation of the learning algorithm\n",
    "kf = sklearn.model_selection.KFold(n_splits=5)\n",
    "inds = [ind for ind in kf.split(x_tall, y_tall)]\n",
    "\n",
    "# Returns indices for validation and training splits\n",
    "train,val = inds[0]\n",
    "Xtrain = x_tall[train]\n",
    "Ytrain = y_tall[train]\n",
    "Xval = x_tall[val]\n",
    "Yval = y_tall[val]"
   ]
  },
  {
   "cell_type": "markdown",
   "metadata": {},
   "source": [
    "## Trying Neural Networks on bag of words dataset"
   ]
  },
  {
   "cell_type": "code",
   "execution_count": 43,
   "metadata": {},
   "outputs": [
    {
     "name": "stderr",
     "output_type": "stream",
     "text": [
      "/usr/local/lib/python3.6/site-packages/keras/activations.py:115: UserWarning: Do not pass a layer instance (such as LeakyReLU) as the activation argument of another layer. Instead, advanced activation layers should be used just like any other layer in a model.\n",
      "  identifier=identifier.__class__.__name__))\n"
     ]
    },
    {
     "name": "stdout",
     "output_type": "stream",
     "text": [
      "_________________________________________________________________\n",
      "Layer (type)                 Output Shape              Param #   \n",
      "=================================================================\n",
      "dense_65 (Dense)             (None, 500)               500500    \n",
      "_________________________________________________________________\n",
      "batch_normalization_53 (Batc (None, 500)               2000      \n",
      "_________________________________________________________________\n",
      "activation_63 (Activation)   (None, 500)               0         \n",
      "_________________________________________________________________\n",
      "dense_66 (Dense)             (None, 250)               125250    \n",
      "_________________________________________________________________\n",
      "batch_normalization_54 (Batc (None, 250)               1000      \n",
      "_________________________________________________________________\n",
      "activation_64 (Activation)   (None, 250)               0         \n",
      "_________________________________________________________________\n",
      "dropout_25 (Dropout)         (None, 250)               0         \n",
      "_________________________________________________________________\n",
      "dense_67 (Dense)             (None, 125)               31375     \n",
      "_________________________________________________________________\n",
      "batch_normalization_55 (Batc (None, 125)               500       \n",
      "_________________________________________________________________\n",
      "activation_65 (Activation)   (None, 125)               0         \n",
      "_________________________________________________________________\n",
      "dropout_26 (Dropout)         (None, 125)               0         \n",
      "_________________________________________________________________\n",
      "dense_68 (Dense)             (None, 75)                9450      \n",
      "_________________________________________________________________\n",
      "batch_normalization_56 (Batc (None, 75)                300       \n",
      "_________________________________________________________________\n",
      "activation_66 (Activation)   (None, 75)                0         \n",
      "_________________________________________________________________\n",
      "dropout_27 (Dropout)         (None, 75)                0         \n",
      "_________________________________________________________________\n",
      "dense_69 (Dense)             (None, 25)                1900      \n",
      "_________________________________________________________________\n",
      "batch_normalization_57 (Batc (None, 25)                100       \n",
      "_________________________________________________________________\n",
      "activation_67 (Activation)   (None, 25)                0         \n",
      "_________________________________________________________________\n",
      "dropout_28 (Dropout)         (None, 25)                0         \n",
      "_________________________________________________________________\n",
      "dense_70 (Dense)             (None, 2)                 52        \n",
      "_________________________________________________________________\n",
      "activation_68 (Activation)   (None, 2)                 0         \n",
      "=================================================================\n",
      "Total params: 672,427\n",
      "Trainable params: 670,477\n",
      "Non-trainable params: 1,950\n",
      "_________________________________________________________________\n"
     ]
    }
   ],
   "source": [
    "# Function to generate DNN of given depth and width\n",
    "def getModel(layers,Pdrop):\n",
    "    model = Sequential()\n",
    "    model.add(Dense(layers[0],input_shape=(1000,)))\n",
    "    model.add(BatchNormalization())\n",
    "    model.add(Activation(LeakyReLU(alpha=0.3)))\n",
    "    for i in layers[1:]:\n",
    "        model.add(Dense(i))\n",
    "        model.add(BatchNormalization())\n",
    "        model.add(Activation(LeakyReLU(alpha=0.3)))\n",
    "        model.add(Dropout(Pdrop))\n",
    "    \n",
    "    # predicting probabilities of each of the 2 classes\n",
    "    model.add(Dense(2))\n",
    "    model.add(Activation('softmax'))\n",
    "    return model\n",
    "\n",
    "# Model for problem 2C, create DNN with less than 100 hidden layers layers\n",
    "model = getModel([500,250,125,75,25],0.4)\n",
    "# Printing a summary of the layers and weights in your model\n",
    "model.summary()"
   ]
  },
  {
   "cell_type": "code",
   "execution_count": 44,
   "metadata": {},
   "outputs": [
    {
     "name": "stdout",
     "output_type": "stream",
     "text": [
      "Train on 16000 samples, validate on 4000 samples\n",
      "Epoch 1/4\n",
      "16000/16000 [==============================] - 6s 361us/step - loss: 0.5276 - acc: 0.7460 - val_loss: 0.3738 - val_acc: 0.8550\n",
      "Epoch 2/4\n",
      "16000/16000 [==============================] - 3s 177us/step - loss: 0.3640 - acc: 0.8459 - val_loss: 0.4156 - val_acc: 0.8488\n",
      "Epoch 3/4\n",
      "16000/16000 [==============================] - 3s 172us/step - loss: 0.3204 - acc: 0.8684 - val_loss: 0.4005 - val_acc: 0.8515\n",
      "Epoch 4/4\n",
      "16000/16000 [==============================] - 3s 180us/step - loss: 0.2923 - acc: 0.8773 - val_loss: 0.4160 - val_acc: 0.8452\n"
     ]
    }
   ],
   "source": [
    "# Compile the DNN model\n",
    "model.compile(loss='categorical_crossentropy',optimizer='RMSprop', metrics=['accuracy'])\n",
    "fit = model.fit(Xtrain, Ytrain, batch_size=2**8, epochs=4,verbose=1,validation_data=(Xval, Yval))"
   ]
  },
  {
   "cell_type": "markdown",
   "metadata": {},
   "source": [
    "Plot the training loss and validation accuracy vs the number of weak decision trees"
   ]
  },
  {
   "cell_type": "code",
   "execution_count": 45,
   "metadata": {},
   "outputs": [
    {
     "name": "stdout",
     "output_type": "stream",
     "text": [
      "16000/16000 [==============================] - 2s 139us/step\n",
      "Training error [0.23184707679599523, 0.9040625]\n",
      "4000/4000 [==============================] - 1s 146us/step\n",
      "Test error [0.4160181985497475, 0.84525]\n",
      "CPU times: user 6.54 s, sys: 362 ms, total: 6.9 s\n",
      "Wall time: 2.81 s\n"
     ]
    }
   ],
   "source": [
    "%%time\n",
    "print('Training error',model.evaluate(x=Xtrain, y=Ytrain))\n",
    "print('Test error',model.evaluate(x=Xval, y=Yval))"
   ]
  },
  {
   "cell_type": "markdown",
   "metadata": {},
   "source": [
    "Validation accuracy plateaus at 82%"
   ]
  }
 ],
 "metadata": {
  "kernelspec": {
   "display_name": "Python 3",
   "language": "python",
   "name": "python3"
  },
  "language_info": {
   "codemirror_mode": {
    "name": "ipython",
    "version": 3
   },
   "file_extension": ".py",
   "mimetype": "text/x-python",
   "name": "python",
   "nbconvert_exporter": "python",
   "pygments_lexer": "ipython3",
   "version": "3.6.3"
  }
 },
 "nbformat": 4,
 "nbformat_minor": 2
}
