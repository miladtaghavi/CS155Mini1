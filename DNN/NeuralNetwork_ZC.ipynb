{
 "cells": [
  {
   "cell_type": "markdown",
   "metadata": {},
   "source": [
    "# CS155 Miniproject 1\n",
    "\n",
    "zchen@caltech.edu"
   ]
  },
  {
   "cell_type": "markdown",
   "metadata": {},
   "source": [
    "Sentiment Analysis via Neural Networks"
   ]
  },
  {
   "cell_type": "code",
   "execution_count": 26,
   "metadata": {},
   "outputs": [],
   "source": [
    "# Import libraries\n",
    "import numpy as np\n",
    "import matplotlib.pyplot as plt\n",
    "\n",
    "import sklearn\n",
    "import sklearn.model_selection\n",
    "\n",
    "import tensorflow as tf \n",
    "import keras\n",
    "from keras.models import Sequential\n",
    "from keras.layers.core import Dense, Activation, Flatten, Dropout\n",
    "from keras.layers import BatchNormalization, LeakyReLU"
   ]
  },
  {
   "cell_type": "markdown",
   "metadata": {},
   "source": [
    "## Loading Dataset"
   ]
  },
  {
   "cell_type": "code",
   "execution_count": 77,
   "metadata": {},
   "outputs": [],
   "source": [
    "# Load final validation data set\n",
    "FV_data = np.loadtxt('../data/test_data.txt',delimiter=' ',skiprows=1)\n",
    "# Load input training data set\n",
    "train_data = np.loadtxt('../data/training_data.txt',delimiter=' ',skiprows=1)\n",
    "\n",
    "# Splot y_train and x_train from training set\n",
    "x_tall = train_data[:,1:]\n",
    "y_tall = train_data[:,0]\n",
    "\n",
    "# One hot encode categories\n",
    "y_tall = keras.utils.np_utils.to_categorical(y_tall)"
   ]
  },
  {
   "cell_type": "markdown",
   "metadata": {},
   "source": [
    "## Trying Neural Networks on bag of words dataset"
   ]
  },
  {
   "cell_type": "code",
   "execution_count": 82,
   "metadata": {},
   "outputs": [],
   "source": [
    "# Function to generate DNN of given depth and width\n",
    "def getModel(layers,Pdrop):\n",
    "    model = Sequential()\n",
    "    model.add(Dense(layers[0],input_shape=(1000,)))\n",
    "    model.add(BatchNormalization())\n",
    "    model.add(LeakyReLU(alpha=0.3))\n",
    "    for i in layers[1:]:\n",
    "        model.add(Dense(i))\n",
    "        model.add(BatchNormalization())\n",
    "        model.add(LeakyReLU(alpha=0.3))\n",
    "        model.add(Dropout(Pdrop))\n",
    "    \n",
    "    # predicting probabilities of each of the 2 classes\n",
    "    model.add(Dense(2))\n",
    "    model.add(Activation('softmax'))\n",
    "    return model"
   ]
  },
  {
   "cell_type": "code",
   "execution_count": 138,
   "metadata": {},
   "outputs": [],
   "source": [
    "# Compile the DNN model\n",
    "def trainModels(k,x_tall,y_tall):\n",
    "    # Storage for k fold cross validation    \n",
    "    trainErr = []\n",
    "    testErr = []\n",
    "    acc = []\n",
    "    \n",
    "    # Split the training data k-fold number of ways for k-fold validation of the learning algorithm\n",
    "    kf = sklearn.model_selection.KFold(n_splits=k)\n",
    "    inds = [ind for ind in kf.split(x_tall, y_tall)]\n",
    "    \n",
    "    i=0\n",
    "    for train,val in inds:\n",
    "        # Training and validation data for k fold cross validation\n",
    "        Xtrain = x_tall[train]\n",
    "        Ytrain = y_tall[train]\n",
    "        Xval = x_tall[val]\n",
    "        Yval = y_tall[val]\n",
    "    \n",
    "        # Define the DNN model\n",
    "        model = getModel([500,250,125,75,25],0.4)\n",
    "        \n",
    "        # Compile it and fit\n",
    "        model.compile(loss='categorical_crossentropy',optimizer='RMSprop', metrics=['accuracy'])\n",
    "        fit = model.fit(Xtrain, Ytrain, batch_size=2**8, epochs=2,verbose=1,validation_data=(Xval, Yval))\n",
    "        \n",
    "        # store training and test error\n",
    "        trainErr.append(model.evaluate(x=Xtrain, y=Ytrain))\n",
    "        testErr.append(model.evaluate(x=Xval, y=Yval))\n",
    "        acc.append(getAccuracy(model,Xval,Yval))\n",
    "\n",
    "        # Status output\n",
    "        print('k-iteration = ',i)\n",
    "        i=i+1\n",
    "        \n",
    "    return np.array(trainErr),np.array(testErr),np.array(acc)\n",
    "\n",
    "# undo one hot encoding\n",
    "def Unencode(out):\n",
    "    ypred = out[:,0] < out[:,1]\n",
    "    return ypred\n",
    "\n",
    "# Function to get explicit model accuracy from softmax\n",
    "def getAccuracy(model,xt,yt):\n",
    "    out = model.predict(xt)\n",
    "    ypred = Unencode(out)\n",
    "    ytrue = Unencode(yt)\n",
    "    acc = 1.0*np.sum(ypred == ytrue)/len(ytrue)\n",
    "    return acc"
   ]
  },
  {
   "cell_type": "code",
   "execution_count": 119,
   "metadata": {},
   "outputs": [
    {
     "name": "stdout",
     "output_type": "stream",
     "text": [
      "Train on 16000 samples, validate on 4000 samples\n",
      "Epoch 1/2\n",
      "16000/16000 [==============================] - 11s 665us/step - loss: 0.5225 - acc: 0.7484 - val_loss: 0.3644 - val_acc: 0.8495\n",
      "Epoch 2/2\n",
      "16000/16000 [==============================] - 3s 205us/step - loss: 0.3595 - acc: 0.8503 - val_loss: 0.3893 - val_acc: 0.8538\n",
      "16000/16000 [==============================] - 3s 207us/step\n",
      "4000/4000 [==============================] - 1s 210us/step\n",
      "0.85375\n",
      "k-iteration =  0\n",
      "Train on 16000 samples, validate on 4000 samples\n",
      "Epoch 1/2\n",
      "16000/16000 [==============================] - 10s 634us/step - loss: 0.5409 - acc: 0.7408 - val_loss: 0.4094 - val_acc: 0.8415\n",
      "Epoch 2/2\n",
      "16000/16000 [==============================] - 3s 189us/step - loss: 0.3618 - acc: 0.8472 - val_loss: 0.4309 - val_acc: 0.8472\n",
      "16000/16000 [==============================] - 3s 208us/step\n",
      "4000/4000 [==============================] - 1s 201us/step\n",
      "0.84725\n",
      "k-iteration =  1\n",
      "Train on 16000 samples, validate on 4000 samples\n",
      "Epoch 1/2\n",
      "16000/16000 [==============================] - 11s 678us/step - loss: 0.5551 - acc: 0.7462 - val_loss: 0.4370 - val_acc: 0.8340\n",
      "Epoch 2/2\n",
      "16000/16000 [==============================] - 3s 196us/step - loss: 0.3667 - acc: 0.8498 - val_loss: 0.4819 - val_acc: 0.8378\n",
      "16000/16000 [==============================] - 3s 211us/step\n",
      "4000/4000 [==============================] - 1s 237us/step\n",
      "0.83775\n",
      "k-iteration =  2\n",
      "Train on 16000 samples, validate on 4000 samples\n",
      "Epoch 1/2\n",
      "16000/16000 [==============================] - 11s 709us/step - loss: 0.5378 - acc: 0.7476 - val_loss: 0.4339 - val_acc: 0.8380\n",
      "Epoch 2/2\n",
      "16000/16000 [==============================] - 3s 197us/step - loss: 0.3562 - acc: 0.8516 - val_loss: 0.4705 - val_acc: 0.8385\n",
      "16000/16000 [==============================] - 4s 223us/step\n",
      "4000/4000 [==============================] - 1s 221us/step\n",
      "0.8385\n",
      "k-iteration =  3\n",
      "Train on 16000 samples, validate on 4000 samples\n",
      "Epoch 1/2\n",
      "16000/16000 [==============================] - 12s 730us/step - loss: 0.5483 - acc: 0.7454 - val_loss: 0.4145 - val_acc: 0.8317\n",
      "Epoch 2/2\n",
      "16000/16000 [==============================] - 3s 211us/step - loss: 0.3609 - acc: 0.8510 - val_loss: 0.4357 - val_acc: 0.8475\n",
      "16000/16000 [==============================] - 4s 232us/step\n",
      "4000/4000 [==============================] - 1s 223us/step\n",
      "0.8475\n",
      "k-iteration =  4\n"
     ]
    }
   ],
   "source": [
    "trainErr,testErr,Vacc = trainModels(5,x_tall,y_tall)"
   ]
  },
  {
   "cell_type": "code",
   "execution_count": 189,
   "metadata": {},
   "outputs": [
    {
     "name": "stdout",
     "output_type": "stream",
     "text": [
      "\n",
      " trainErr\n",
      "[[0.28637429 0.8865    ]\n",
      " [0.29031374 0.8885625 ]\n",
      " [0.30523332 0.887     ]\n",
      " [0.28693927 0.8891875 ]\n",
      " [0.30363714 0.8849375 ]]\n",
      "avg trainErr [0.29449955 0.8872375 ]\n",
      "\n",
      " testErr\n",
      "[[0.38926657 0.85375   ]\n",
      " [0.43087638 0.84725   ]\n",
      " [0.48194636 0.83775   ]\n",
      " [0.47047041 0.8385    ]\n",
      " [0.43574135 0.8475    ]]\n",
      "avg testErr [0.44166021 0.84495   ]\n",
      "\n",
      " Accuracy\n",
      "[0.85375 0.84725 0.83775 0.8385  0.8475 ]\n",
      "avg acc 0.8449500000000001\n"
     ]
    }
   ],
   "source": [
    "print('\\n trainErr')\n",
    "print(trainErr)\n",
    "print('avg trainErr',np.mean(trainErr,axis=0))\n",
    "print('\\n testErr')\n",
    "print(testErr)\n",
    "print('avg testErr',np.mean(testErr,axis=0))\n",
    "print('\\n Accuracy')\n",
    "print(Vacc)\n",
    "print('avg acc',np.mean(Vacc))\n"
   ]
  },
  {
   "cell_type": "markdown",
   "metadata": {},
   "source": [
    "Hyperparameters plots"
   ]
  },
  {
   "cell_type": "code",
   "execution_count": null,
   "metadata": {},
   "outputs": [],
   "source": []
  },
  {
   "cell_type": "markdown",
   "metadata": {},
   "source": [
    "Validation accuracy plateaus at 85%"
   ]
  },
  {
   "cell_type": "code",
   "execution_count": 143,
   "metadata": {},
   "outputs": [
    {
     "name": "stdout",
     "output_type": "stream",
     "text": [
      "Epoch 1/4\n",
      "20000/20000 [==============================] - 12s 596us/step - loss: 0.5097 - acc: 0.7653\n",
      "Epoch 2/4\n",
      "20000/20000 [==============================] - 4s 188us/step - loss: 0.3518 - acc: 0.8531\n",
      "Epoch 3/4\n",
      "20000/20000 [==============================] - 4s 191us/step - loss: 0.3186 - acc: 0.8688\n",
      "Epoch 4/4\n",
      "20000/20000 [==============================] - 4s 207us/step - loss: 0.2943 - acc: 0.8766\n",
      "10000/10000 [==============================] - 4s 368us/step\n"
     ]
    }
   ],
   "source": [
    "# Compile it and fit\n",
    "model = getModel([500,250,125,75,25],0.4)\n",
    "model.compile(loss='categorical_crossentropy',optimizer='RMSprop', metrics=['accuracy'])\n",
    "fit = model.fit(x_tall, y_tall, batch_size=2**8, epochs=4,verbose=1)\n",
    "out = model.predict(FV_data,batch_size=2**8,verbose=1)\n",
    "\n",
    "ypred = Unencode(out)\n",
    "ytrue = Unencode(y_tall)"
   ]
  },
  {
   "cell_type": "code",
   "execution_count": 181,
   "metadata": {},
   "outputs": [],
   "source": [
    "# Final predictions\n",
    "def writeResults(out):\n",
    "    f = open('DNN_submission.txt','w')\n",
    "    f.write('Id,Prediction\\n')\n",
    "    ypred = Unencode(out)\n",
    "    for i in range(0,len(ypred)):\n",
    "        f.write(str(i+1)+','+str(int(ypred[i]))+'\\n')\n",
    "    f.close()\n",
    "\n",
    "writeResults(out)"
   ]
  }
 ],
 "metadata": {
  "kernelspec": {
   "display_name": "Python 3",
   "language": "python",
   "name": "python3"
  },
  "language_info": {
   "codemirror_mode": {
    "name": "ipython",
    "version": 3
   },
   "file_extension": ".py",
   "mimetype": "text/x-python",
   "name": "python",
   "nbconvert_exporter": "python",
   "pygments_lexer": "ipython3",
   "version": "3.6.3"
  }
 },
 "nbformat": 4,
 "nbformat_minor": 2
}
